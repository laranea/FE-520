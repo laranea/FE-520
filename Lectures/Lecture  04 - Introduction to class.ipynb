{
 "cells": [
  {
   "cell_type": "markdown",
   "metadata": {},
   "source": [
    "## 1. Intro to Class (Object-oriented Programming)\n",
    "some parts of code come from www.py4e.com"
   ]
  },
  {
   "cell_type": "code",
   "execution_count": null,
   "metadata": {},
   "outputs": [],
   "source": [
    "x = 'abc'\n",
    "print(type(x))\n",
    "dir(x)"
   ]
  },
  {
   "cell_type": "code",
   "execution_count": null,
   "metadata": {},
   "outputs": [],
   "source": [
    "y = list()\n",
    "print(type(y))"
   ]
  },
  {
   "cell_type": "markdown",
   "metadata": {},
   "source": [
    "### 1.1. Class and instance\n",
    "* Class is abstract, it will describe one kind of concrete things, like human. it includes the thing's characteristics (its attributes, fields or properties) and the thing's behaviors (the things it can do, or methods, operations or features).\n",
    "* Instance is concrete, like one specific person.\n",
    "* Method is function in the class.\n",
    "* Attributes are the variables"
   ]
  },
  {
   "cell_type": "markdown",
   "metadata": {},
   "source": [
    "### 1.2. What could we gain from class\n",
    "* Code re-usage.\n",
    "* Seperating your program into several blocks, then assemble them together like playing Lego.\n",
    "* Easier to debug.\n",
    "* It can aggregate functions closely related to central data.\n",
    "* An example: pricing options by Monte-Carlo method."
   ]
  },
  {
   "cell_type": "markdown",
   "metadata": {},
   "source": [
    "### 1.3. Class object"
   ]
  },
  {
   "cell_type": "code",
   "execution_count": null,
   "metadata": {},
   "outputs": [],
   "source": [
    "# Class definition syntax\n",
    "'''\n",
    "class ClassName:\n",
    "    <statement-1>\n",
    "    .\n",
    "    .\n",
    "    .\n",
    "    <statement-N>\n",
    "'''\n",
    "\n",
    "# A simple example:\n",
    "\n",
    "class PartyAnimal:\n",
    "    x = 0\n",
    "    def party(self) :\n",
    "        self.x = self.x + 1\n",
    "        print(\"So far\",self.x)\n"
   ]
  },
  {
   "cell_type": "markdown",
   "metadata": {},
   "source": [
    "* Class objects support two kinds of operations: attribute references and instantiation.\n",
    "* The methods have a special first parameter that we name by convention self.\n",
    "* Just as the def keyword does not cause function code to be executed, the class keyword does not create an object. Instead, the class keyword defines a template indicating what data and code will be contained in each object of type PartyAnimal. "
   ]
  },
  {
   "cell_type": "code",
   "execution_count": null,
   "metadata": {},
   "outputs": [],
   "source": [
    "an = PartyAnimal() #Construct a PartyAnimal object and store in an\n",
    "print (an.x)\n",
    "an.party()\n",
    "an.party()\n",
    "an.party()"
   ]
  },
  {
   "cell_type": "code",
   "execution_count": null,
   "metadata": {},
   "outputs": [],
   "source": [
    "dir(an)"
   ]
  },
  {
   "cell_type": "markdown",
   "metadata": {},
   "source": [
    "* When a class defines an \\_\\_init\\_\\_() method, class instantiation automatically invokes \\_\\_init\\_\\_() for the newly-created class instance.\n",
    "* Arguments given to the class instantiation operator are passed on to \\_\\_init\\_\\_()."
   ]
  },
  {
   "cell_type": "markdown",
   "metadata": {},
   "source": [
    "### 1.4. Instance object"
   ]
  },
  {
   "cell_type": "markdown",
   "metadata": {},
   "source": [
    "* The only operations understood by instance objects are attribute references.\n",
    "* There are two kinds of valid attribute names, data attributes and methods."
   ]
  },
  {
   "cell_type": "code",
   "execution_count": null,
   "metadata": {},
   "outputs": [],
   "source": [
    "# A simple example:\n",
    "\n",
    "class PartyAnimal:\n",
    "    x = 0\n",
    "    def __init__(self):\n",
    "        print('I am constructed')\n",
    "        \n",
    "    def party(self) :\n",
    "        self.x = self.x + 1\n",
    "        print('So far',self.x)\n",
    "\n",
    "    def __del__(self):\n",
    "        print('I am destructed', self.x)"
   ]
  },
  {
   "cell_type": "code",
   "execution_count": null,
   "metadata": {},
   "outputs": [],
   "source": [
    "an = PartyAnimal()"
   ]
  },
  {
   "cell_type": "code",
   "execution_count": null,
   "metadata": {},
   "outputs": [],
   "source": [
    "an.party()\n",
    "an.party()"
   ]
  },
  {
   "cell_type": "code",
   "execution_count": null,
   "metadata": {},
   "outputs": [],
   "source": [
    "an = 42\n",
    "print('an contains',an)"
   ]
  },
  {
   "cell_type": "markdown",
   "metadata": {},
   "source": [
    "* Constructing a instance by using the class name. Class instantiation uses function notation. Arguments will passed to \\_\\_init\\_\\_() method.\n",
    "* We call functions defined within a class as method or attribute. Compared with regular functions, the first argument is reserved. <code>self</code> doesn't have special meaning here, you can replace it as what ever you want. But setting it as self will help other's understand your code.\n",
    "* For C++ user, <code>self</code> works like <code>this</code> pointer, it is an instance of this class.\n",
    "* \\_\\_init\\_\\_() method will be called when instance is created, .\n",
    "* Some default protected methods can be specified such as operators (including Python pre-defined functions). Find more information here: https://docs.python.org/3.7/reference/datamodel.html\n",
    "* Use dot(.) to call instance methods or data attributes."
   ]
  },
  {
   "cell_type": "code",
   "execution_count": null,
   "metadata": {},
   "outputs": [],
   "source": [
    "class PartyAnimal:\n",
    "    x = 0\n",
    "    name = ''\n",
    "    def __init__(self, nam):\n",
    "        self.name = nam\n",
    "        print(self.name,'constructed')\n",
    "\n",
    "    def party(self) :\n",
    "        self.x = self.x + 1 #+y\n",
    "        print(self.name,'party count',self.x)\n",
    "\n",
    "s = PartyAnimal('Sally')\n",
    "j = PartyAnimal('Jim')"
   ]
  },
  {
   "cell_type": "code",
   "execution_count": null,
   "metadata": {},
   "outputs": [],
   "source": [
    "s.party()\n",
    "j.party()\n",
    "s.party()"
   ]
  },
  {
   "cell_type": "markdown",
   "metadata": {},
   "source": [
    "## 2. Inheritance"
   ]
  },
  {
   "cell_type": "markdown",
   "metadata": {},
   "source": [
    "### 2.1. What is inheritance?\n",
    "* Inheritance is the relationship between classes.\n",
    "* Such relationship can be described as \"is a/an\", \"student is a human\", \"computer science student is a student\".\n",
    "* In the example above, \"human\" is the parent class of \"student\", and \"computer science student\" is a child class of \"student\".\n",
    "* Parent class is also called bass class or superclass, child class is also called derived/inherited class."
   ]
  },
  {
   "cell_type": "markdown",
   "metadata": {},
   "source": [
    "### 2.2. Inheritance syntax"
   ]
  },
  {
   "cell_type": "code",
   "execution_count": null,
   "metadata": {},
   "outputs": [],
   "source": [
    "'''\n",
    "class DerivedClassName(BaseClassName):\n",
    "    <statement-1>\n",
    "    .\n",
    "    .\n",
    "    .\n",
    "    <statement-N>\n",
    "'''\n",
    "\n",
    "class Human:\n",
    "    def __init__(self,Name, Gender, Age):\n",
    "        self.gender = Gender\n",
    "        self.age = Age\n",
    "        self.name = Name\n",
    "    \n",
    "    def run(self):\n",
    "        print('{name} is running.'.format(name=self.name))\n",
    "        \n",
    "class Student1(Human):\n",
    "    def study(self):\n",
    "        print('%s is studying.' % self.name)\n",
    "\n",
    "student = Student1('David','male',23)"
   ]
  },
  {
   "cell_type": "code",
   "execution_count": null,
   "metadata": {},
   "outputs": [],
   "source": [
    "print(student.gender)\n",
    "print(student.age)\n",
    "student.run()\n",
    "student.study()"
   ]
  },
  {
   "cell_type": "code",
   "execution_count": null,
   "metadata": {},
   "outputs": [],
   "source": [
    "class FootballFan(PartyAnimal):\n",
    "    points = 0\n",
    "    def six(self):\n",
    "        self.points = self.points + 6\n",
    "        self.party()\n",
    "        print(self.name,\"points\",self.points)"
   ]
  },
  {
   "cell_type": "code",
   "execution_count": null,
   "metadata": {},
   "outputs": [],
   "source": [
    "s = PartyAnimal(\"Sally\")\n",
    "s.party()\n",
    "j = FootballFan(\"Jim\")\n",
    "j.party()\n",
    "j.six()\n",
    "print(dir(j))"
   ]
  },
  {
   "cell_type": "markdown",
   "metadata": {},
   "source": [
    "### 2.3. Overriding methods.\n",
    "* Method references are resolved as follows: the corresponding class attribute is searched, __descending down the chain of base classes__ if necessary, and the method reference is valid if this yields a function object.\n",
    "* You can override the methods in superclass by defining a new funcion with the same function name in child class.\n",
    "* You can call attributes in superclass by <code>super()</code>. But there is a simple way to call the base class method directly: just call BaseClassName.methodname(self, arguments)."
   ]
  },
  {
   "cell_type": "code",
   "execution_count": null,
   "metadata": {},
   "outputs": [],
   "source": [
    "class Human:\n",
    "    def __init__(self,Name, Gender, Age):\n",
    "        self.gender = Gender\n",
    "        self.age = Age\n",
    "        self.name = Name\n",
    "    \n",
    "    def run(self):\n",
    "        print('{name} is running.'.format(name=self.name))\n",
    "\n",
    "class Student2(Human):\n",
    "    def study(self):\n",
    "        print('%s is studying.' % self.name)\n",
    "    def run(self):\n",
    "        print('I am a student')\n",
    "        Human.run(self)\n",
    "        \n",
    "student2 = Student2('David','male',23)"
   ]
  },
  {
   "cell_type": "code",
   "execution_count": null,
   "metadata": {},
   "outputs": [],
   "source": [
    "student2.run()"
   ]
  },
  {
   "cell_type": "markdown",
   "metadata": {},
   "source": [
    "\\*Python has two built-in functions that work with inheritance:\n",
    "\n",
    "* Use <code>isinstance()</code> to check an instance’s type: <code>isinstance(obj, int)</code> will be <code>True</code> only if <code>obj.\\_\\_class\\_\\_</code> is <code>int</code> or some class derived from <code>int</code>.\n",
    "* Use <code>issubclass()</code> to check class inheritance: <code>issubclass(bool, int)</code> is True since bool is a subclass of <code>int</code>. However, <code>issubclass(float, int)</code> is <code>False</code> since float is not a subclass of <code>int</code>."
   ]
  },
  {
   "cell_type": "markdown",
   "metadata": {},
   "source": [
    "### 2.4 Review of Class\n",
    "__attribute__\n",
    "* A variable that is part of a class.  \n",
    "__class__\n",
    "* A template that can be used to construct an object. Defines the attributes and methods that will make up the object.  \n",
    "__child class__\n",
    "* A new class created when a parent class is extended. The child class inherits all of the attributes and methods of the parent class.  \n",
    "__constructor__  \n",
    "* An optional specially named method (__init__) that is called at the moment when a class is being used to construct an object. Usually this is used to set up initial values for the object.  \n",
    "__destructor__\n",
    "* An optional specially named method (__del__) that is called at the moment just before an object is destroyed. Destructors are rarely used.  \n",
    "__inheritance__  \n",
    "* When we create a new class (child) by extending an existing class (parent). The child class has all the attributes and methods of the parent class plus additional attributes and methods defined by the child class.  \n",
    "__method__  \n",
    "* A function that is contained within a class and the objects that are constructed from the class. Some object-oriented patterns use 'message' instead of 'method' to describe this concept.  \n",
    "__object__  \n",
    "* A constructed instance of a class. An object contains all of the attributes and methods that were defined by the class. Some object-oriented documentation uses the term 'instance' interchangeably with 'object'.  \n",
    "__parent class__  \n",
    "The class which is being extended to create a new child class. The parent class contributes all of its methods and attributes to the new child class."
   ]
  },
  {
   "cell_type": "markdown",
   "metadata": {},
   "source": [
    "## 3. Advanced skills"
   ]
  },
  {
   "cell_type": "markdown",
   "metadata": {},
   "source": [
    "### 3.1. Context manager (with ... as ... statement)\n",
    "* myObject.\\_\\_enter\\_\\_() and myObject.\\_\\_exit\\_\\_() are two methods which will be invoked by <code>with</code> and <code>as</code> .\n",
    "* \\_\\_enter\\_\\_() will be invoked by <code>with</code>.\n",
    "* \\_\\_exit\\_\\_() will be invoked by <code>as</code>.\n",
    "* The context manager handles the entry into, and the exit from, the desired runtime context for the execution of the block of code.\n",
    "* Example: database connection, processing text files.\n",
    "* Reference: https://docs.python.org/3/reference/compound_stmts.html#the-with-statement"
   ]
  },
  {
   "cell_type": "code",
   "execution_count": null,
   "metadata": {},
   "outputs": [],
   "source": [
    "# with as statement\n",
    "'''\n",
    "with myObject as myVarible:\n",
    "    <statement-1>\n",
    "    <statement-2>\n",
    "    ...\n",
    "    <statement-n>\n",
    "'''\n",
    "# It is equivalent with:\n",
    "'''\n",
    "myVarible = myObject.__enter__()\n",
    "<statement>\n",
    "myObject.__exit__()\n",
    "'''\n"
   ]
  },
  {
   "cell_type": "code",
   "execution_count": null,
   "metadata": {},
   "outputs": [],
   "source": [
    "# This sample is to create a connection to database and send a query\n",
    "# to DB, gather the data then kill the connection.\n",
    "\n",
    "# Connection will be killed when such statement finished.\n",
    "\n",
    "# This is only a sample.\n",
    "with Connection() as connector:\n",
    "    print(connector.is_connected())\n",
    "    for i,n in enumerate(names):\n",
    "        assert n == zipped_data[i][0]\n",
    "        query = \"\"\" UPDATE employee\n",
    "                    SET full_name=%s, first_name=%s, last_name=%s, title=%s, organization=%s, headline=%s, link=%s, pic=%s\n",
    "                    WHERE full_name='{name}' \"\"\".format(name = n)\n",
    "        cursor = connector.cursor()\n",
    "        print(zipped_data[i])\n",
    "        cursor.execute(query, zipped_data[i])\n",
    "        connector.commit()\n",
    "        cursor.close()"
   ]
  },
  {
   "cell_type": "code",
   "execution_count": null,
   "metadata": {},
   "outputs": [],
   "source": [
    "# Another example:\n",
    "\n",
    "# Open the file first and then read from this file. Close the file at last.\n",
    "with open(\"x.txt\") as f:\n",
    "    data = f.read()"
   ]
  },
  {
   "cell_type": "markdown",
   "metadata": {},
   "source": [
    "* When you write your own class, make sure return something you want to use in \\_\\_enter\\_\\_()."
   ]
  },
  {
   "cell_type": "code",
   "execution_count": null,
   "metadata": {},
   "outputs": [],
   "source": [
    "class Connection:\n",
    "    def __init__(self, File = 'config.ini'):\n",
    "        self.__db_config = read_db_config(filename=File)\n",
    "        self.__conn = None\n",
    "\n",
    "    def connect(self):\n",
    "        self.__conn = MySQLConnection(**self.__db_config)\n",
    "        assert self.__conn.is_connected(), \"Connection failed.\"\n",
    "\n",
    "    def __enter__(self):\n",
    "        if not self.__conn.is_connected():\n",
    "            self.connect()\n",
    "        return self.__conn\n",
    "\n",
    "    def __exit__(self, exc_type, exc_val, exc_tb):\n",
    "        self.__conn.close()\n",
    "        \n",
    "with Connection() as conn:\n",
    "    pass\n",
    "    '''\n",
    "    Do something with this connection.\n",
    "    '''"
   ]
  },
  {
   "cell_type": "markdown",
   "metadata": {},
   "source": [
    "## 4. Errors and Exceptions"
   ]
  },
  {
   "cell_type": "markdown",
   "metadata": {},
   "source": [
    "### 4.1. Syntax Errors\n",
    "* As a beginner, you must be quite familiar with syntax error :)."
   ]
  },
  {
   "cell_type": "code",
   "execution_count": null,
   "metadata": {},
   "outputs": [],
   "source": [
    "(1]"
   ]
  },
  {
   "cell_type": "markdown",
   "metadata": {},
   "source": [
    "### 4.2. Exceptions"
   ]
  },
  {
   "cell_type": "markdown",
   "metadata": {},
   "source": [
    "* Even if a statement or expression is syntactically correct, it may cause an error when an attempt is made to execute it. Errors detected during execution are called __exceptions__.\n",
    "* Built-in exception type: https://docs.python.org/3/library/exceptions.html#bltin-exceptions\n",
    "* Exception types in Python 3 and Python 2 differ a lot.\n",
    "* You can use keyword __raise__ to raise an exception."
   ]
  },
  {
   "cell_type": "markdown",
   "metadata": {},
   "source": [
    "### 4.3. try statement\n",
    "Let's see a example first."
   ]
  },
  {
   "cell_type": "code",
   "execution_count": null,
   "metadata": {},
   "outputs": [],
   "source": [
    "int('a')"
   ]
  },
  {
   "cell_type": "code",
   "execution_count": null,
   "metadata": {},
   "outputs": [],
   "source": [
    "while True:\n",
    "    try:\n",
    "        x = int(input(\"Please enter a number: \"))\n",
    "        break\n",
    "    except ValueError:\n",
    "        print(\"Oops!  That was no valid number.  Try again...\")"
   ]
  },
  {
   "cell_type": "markdown",
   "metadata": {},
   "source": [
    "\n",
    "* The try statement works as follows.\n",
    "    1. First, the try clause (the statement(s) between the try and except keywords) is executed.\n",
    "    1. If no exception occurs, the except clause is skipped and execution of the try statement is finished.\n",
    "    0. If an exception occurs during execution of the try clause, the rest of the clause is skipped. Then if its type matches the exception named after the except keyword, the except clause is executed, and then execution continues after the try statement.\n",
    "    0. If an exception occurs which does not match the exception named in the except clause, it is passed on to outer try statements; if no handler is found, it is an unhandled exception and execution stops with a message as shown above.\n",
    "    \n",
    "* You can use multiple __exception__ clauses for one __try__ clause.\n",
    "* You can catch the error information by using __as__ statement with __except__.\n",
    "* Exception type after __except__ can be default, which indicates to bear all exceptions."
   ]
  },
  {
   "cell_type": "code",
   "execution_count": null,
   "metadata": {},
   "outputs": [],
   "source": [
    "def input100(num):\n",
    "    if type(num) != int:\n",
    "        raise TypeError('Input type should be int, but it is %s'%type(num))\n",
    "    elif num != 100:\n",
    "        raise ValueError('Input is not 100')\n",
    "    else:\n",
    "        return 'Bingo'"
   ]
  },
  {
   "cell_type": "code",
   "execution_count": null,
   "metadata": {},
   "outputs": [],
   "source": [
    "input100(100)"
   ]
  },
  {
   "cell_type": "code",
   "execution_count": null,
   "metadata": {},
   "outputs": [],
   "source": [
    "try:\n",
    "    a = input100('l')\n",
    "except ValueError as info:\n",
    "    print(info)\n",
    "except TypeError as info:\n",
    "    print(info)\n",
    "\n",
    "print('Program is finished.')"
   ]
  },
  {
   "cell_type": "markdown",
   "metadata": {},
   "source": [
    "* The use of the __else__ clause is better than adding additional code to the try clause because it avoids accidentally catching an exception that wasn’t raised by the code being protected by the try … except statement.\n",
    "\n",
    "else:   \n",
    "    statements # statements that will be executed if there is no exception\n",
    "* A __finally__ clause is intended to define clean-up actions that must be executed under all circumstances. It is always executed before leaving the try statement, whether an exception has occurred or not."
   ]
  },
  {
   "cell_type": "code",
   "execution_count": null,
   "metadata": {},
   "outputs": [],
   "source": [
    "def divide(x, y):\n",
    "    try:\n",
    "        result = x / y\n",
    "    except ZeroDivisionError:\n",
    "        print(\"division by zero!\")\n",
    "    else:\n",
    "        print(\"result is\", result)\n",
    "    finally:\n",
    "        print(\"executing finally clause\")\n",
    "print('-------------')\n",
    "divide(2, 1)\n",
    "print('-------------')\n",
    "divide(2, 0)\n",
    "print('-------------')\n",
    "divide(\"2\", \"1\")"
   ]
  },
  {
   "cell_type": "code",
   "execution_count": null,
   "metadata": {},
   "outputs": [],
   "source": [
    "2/1"
   ]
  },
  {
   "cell_type": "code",
   "execution_count": null,
   "metadata": {},
   "outputs": [],
   "source": []
  }
 ],
 "metadata": {
  "kernelspec": {
   "display_name": "Python 3",
   "language": "python",
   "name": "python3"
  },
  "language_info": {
   "codemirror_mode": {
    "name": "ipython",
    "version": 3
   },
   "file_extension": ".py",
   "mimetype": "text/x-python",
   "name": "python",
   "nbconvert_exporter": "python",
   "pygments_lexer": "ipython3",
   "version": "3.7.4"
  }
 },
 "nbformat": 4,
 "nbformat_minor": 2
}
