{
 "cells": [
  {
   "cell_type": "markdown",
   "metadata": {},
   "source": [
    "### 1.0. Global vs. Local variables ###\n",
    "* **Local variables**: \n",
    "   * Variables defined inside a function body have a local scope \n",
    "   * Local variables are accessed only inside the function\n",
    "* **Global variables**: \n",
    "   * Variables defined outside of a function have a global scope\n",
    "   * Global variables are accessed (read) throughout the program body by all functions\n"
   ]
  },
  {
   "cell_type": "code",
   "execution_count": null,
   "metadata": {},
   "outputs": [],
   "source": [
    "#  local vs. global variables\n",
    "\n",
    "total = 10  # global variable\n",
    "\n",
    "def sum( arg1, arg2 ):\n",
    "    # Here define a local variable also named with \"total\"\n",
    "    # Although with the same variable names, they are two different variables\n",
    "    #global total\n",
    "    total = arg1 + arg2 \n",
    "    print (\"Inside the function local total : \", total)\n",
    "    #print (id(total))\n",
    "    return total;\n",
    "\n",
    "# Now you can call sum function\n",
    "sum( 10, 20 );\n",
    "\n",
    "print (\"Outside the function global total : \", total) \n"
   ]
  },
  {
   "cell_type": "code",
   "execution_count": null,
   "metadata": {},
   "outputs": [],
   "source": [
    "#  You can read global variables inside a function\n",
    "\n",
    "global_total = 10  # global variable\n",
    "\n",
    "def sum( arg1, arg2 ):\n",
    "    total = arg1 + arg2 # Here total is local variable.\n",
    "    \n",
    "    # sum \"global_total\" with \"total\" and save it to a new \n",
    "    # variable \"grand_total\"\n",
    "    \n",
    "    grand_total = global_total + total\n",
    "    print(\"sum with global_total: \", grand_total)\n",
    "\n",
    "    print (\"Inside the function local total : \", total)\n",
    "    return total\n",
    "\n",
    "# Now you can call sum function\n",
    "sum( 10, 20 )\n",
    "print (\"global_total outside the function  : \", global_total) \n",
    "print (total)\n"
   ]
  },
  {
   "cell_type": "code",
   "execution_count": null,
   "metadata": {},
   "outputs": [],
   "source": [
    "#  Can you reassign \"global_total\" within a function? \n",
    "\n",
    "global_total = 10  # global variable\n",
    "\n",
    "def sum( arg1, arg2 ):\n",
    "    total = arg1 + arg2 # Here total is local variable.\n",
    "\n",
    "    # modify \"global_total\" by adding \"total\" value to it\n",
    "    #global_total += total \n",
    "    global_total = global_total + total\n",
    "    print(\"global_total: \", global_total)\n",
    "    \n",
    "    print (\"Inside the function local total : \", total)\n",
    "    return total\n",
    "\n",
    "# Now you can call sum function\n",
    "sum( 10, 20 )\n",
    "print (\"Outside the function global total : \", global_total) \n",
    "\n",
    "# You got an error from the function. Why?\n",
    "# How to fix it?"
   ]
  },
  {
   "cell_type": "markdown",
   "metadata": {},
   "source": [
    "* ** Global Statement **\n",
    "   * How to define/modify a global variable within a function?, i.e.\n",
    "     * Make variables defined within a function accessible outside the function?\n",
    "     * Assign values to global variables within a function?\n",
    "   * Declare a global variable with \"global statement\" "
   ]
  },
  {
   "cell_type": "code",
   "execution_count": null,
   "metadata": {},
   "outputs": [],
   "source": [
    " # Can you modify \"global_total\" within a function?\n",
    "# Yes. Use global statement to refer to a global variable\n",
    "\n",
    "global_total = 10  # global variable\n",
    "\n",
    "def sum( arg1, arg2 ):\n",
    "    total = arg1 + arg2 # Here total is local variable.\n",
    "    \n",
    "    # use global statement to indicate the scope of global_total\n",
    "    global global_total\n",
    "    \n",
    "    global_total+=total\n",
    "    print(\"global_total: \", global_total)\n",
    "    \n",
    "    print (\"Inside the function local total : \", total)\n",
    "    return total\n",
    "\n",
    "# Now you can call sum function\n",
    "sum( 10, 20 )\n",
    "print (\"Outside the function global total : \", global_total) "
   ]
  },
  {
   "cell_type": "code",
   "execution_count": null,
   "metadata": {},
   "outputs": [],
   "source": [
    "# Can you define \"global_total\" \n",
    "# as a global variable within a function?\n",
    "# Yes. Use global statement to indicate the scope\n",
    "\n",
    "def sum( arg1, arg2 ):\n",
    "    total = arg1 + arg2 # Here total is local variable.\n",
    "    \n",
    "    # use global statement to indicate the scope of global_total\n",
    "    global global_total\n",
    "    \n",
    "    # assign a value to the global variable \n",
    "    global_total = 10  \n",
    "    \n",
    "    # modify it\n",
    "    global_total+=total \n",
    "    print(\"global_total: \", global_total)\n",
    "    \n",
    "    print (\"Inside the function local total : \", total)\n",
    "    return total\n",
    "\n",
    "# Now you can call sum function\n",
    "sum( 10, 20 )\n",
    "global_total = 50\n",
    "print (\"Outside the function global total : \", global_total) \n",
    "\n",
    "# What if you add \"global_total = 50\" before line 5 \n",
    "# or before line 21? What you'll get?"
   ]
  },
  {
   "cell_type": "markdown",
   "metadata": {},
   "source": [
    "### 1.1 About the argument & parameter of Function\n",
    "* Parameters are such varibles that works like placeholders in the defination of function.\n",
    "* Arguments are such varibles that are passed into a function when calling this function."
   ]
  },
  {
   "cell_type": "code",
   "execution_count": null,
   "metadata": {},
   "outputs": [],
   "source": [
    "# Defination\n",
    "def fun1(a1, a2, a3, a4 = 10):\n",
    "    print(a1)\n",
    "    print(a2)\n",
    "    print(a3)\n",
    "    print(a4)"
   ]
  },
  {
   "cell_type": "code",
   "execution_count": null,
   "metadata": {},
   "outputs": [],
   "source": [
    "# Calling\n",
    "fun1(1, 2, 3)"
   ]
  },
  {
   "cell_type": "markdown",
   "metadata": {},
   "source": [
    "* There are two types of parameters: ones with default value and one without default value. \n",
    "* Rule for parameter: non-default-value parameters must be before parameters with default value.\n",
    "* There are also two types of arguments: non-keyword argument and keyword argument.\n",
    "* Rule for argument: non-keyword argument must be before keyword argument."
   ]
  },
  {
   "cell_type": "code",
   "execution_count": null,
   "metadata": {},
   "outputs": [],
   "source": [
    "#fun1(1,2,3) # You don't have to pass values to parameter with default value. \n",
    "fun1(10, a2 = 20, a3 = 10, a4 = 40) # the second argument is the one with keyword."
   ]
  },
  {
   "cell_type": "markdown",
   "metadata": {},
   "source": [
    "* The Sequence of keyword argument does not matter, but it matters for non-keyword argument."
   ]
  },
  {
   "cell_type": "code",
   "execution_count": null,
   "metadata": {},
   "outputs": [],
   "source": [
    "fun1(10, a4 = 20, a2 = 10, a3 = 40) # Sequence of Keyword argument can be arbitrary."
   ]
  },
  {
   "cell_type": "markdown",
   "metadata": {},
   "source": [
    "<div class=\"alert alert-block alert-info\">All parameters in the Python language are passed **by reference**. It means if you change what a parameter refers to within a function, the change also reflects back in the calling function. <br>\n",
    "**by reference**: the called functions' parameter will be the same as the callers' passed argument (not the value, but the identity - the variable itself). <br>\n",
    "**by value**: the called functions' parameter will be a copy of the callers' passed argument</div>"
   ]
  },
  {
   "cell_type": "code",
   "execution_count": null,
   "metadata": {},
   "outputs": [],
   "source": [
    "# function parameter: by reference or by value?\n",
    "\n",
    "def changeme( mylist ):\n",
    "   # \"This changes a passed list into this function\"\n",
    "    mylist.append([1,2,3,4])\n",
    "    print (\"Values inside the function: \", mylist)\n",
    "    return mylist\n",
    "\n",
    "# Now you can call changeme function\n",
    "mylist = [10,20,30]\n",
    "newlist=changeme( mylist )\n",
    "print (\"Values outside the function: \", mylist)\n",
    "\n",
    "# global variable \"mylist\" is passed to the function by reference\n",
    "# However, it's value is changed by the function\n"
   ]
  },
  {
   "cell_type": "code",
   "execution_count": null,
   "metadata": {},
   "outputs": [],
   "source": [
    "#  What will be printed out?\n",
    "\n",
    "\n",
    "def changeme( mylist ):\n",
    "   # \"This changes a passed list into this function\"\n",
    "\n",
    "    mylist=[1,2,3,4]\n",
    "   \n",
    "    print (\"Values inside the function: \", mylist)\n",
    "    return mylist\n",
    "\n",
    "# Now you can call changeme function\n",
    "mylist = [10,20,30];\n",
    "newlist=changeme( mylist );\n",
    "print (\"Values outside the function: \", mylist)\n",
    "\n",
    "# global variable \"mylist\" is passed to the function by reference\n",
    "# However, it's value is not changed by the function\n",
    "# How to understand this?"
   ]
  },
  {
   "cell_type": "markdown",
   "metadata": {},
   "source": [
    "### 1.2. Yield, iterators and generators."
   ]
  },
  {
   "cell_type": "markdown",
   "metadata": {},
   "source": [
    "#### Iterable: sequenced order container is iterable: list, dict, tuple, set\n",
    "#### Keyword: yield, will yield (not return) a value for each time when iterator goes through it, until a StopIteration raised."
   ]
  },
  {
   "cell_type": "code",
   "execution_count": 11,
   "metadata": {},
   "outputs": [
    {
     "data": {
      "text/plain": [
       "1"
      ]
     },
     "execution_count": 11,
     "metadata": {},
     "output_type": "execute_result"
    }
   ],
   "source": [
    "x = [1, 2, 3]\n",
    "y = iter(x)\n",
    "z = iter(x)\n",
    "next(y)"
   ]
  },
  {
   "cell_type": "code",
   "execution_count": 12,
   "metadata": {},
   "outputs": [
    {
     "data": {
      "text/plain": [
       "2"
      ]
     },
     "execution_count": 12,
     "metadata": {},
     "output_type": "execute_result"
    }
   ],
   "source": [
    "next(y)\n"
   ]
  },
  {
   "cell_type": "code",
   "execution_count": 13,
   "metadata": {},
   "outputs": [
    {
     "data": {
      "text/plain": [
       "1"
      ]
     },
     "execution_count": 13,
     "metadata": {},
     "output_type": "execute_result"
    }
   ],
   "source": [
    "next(z)\n"
   ]
  },
  {
   "cell_type": "code",
   "execution_count": 14,
   "metadata": {},
   "outputs": [
    {
     "name": "stdout",
     "output_type": "stream",
     "text": [
      "<class 'list'>\n",
      "<class 'list_iterator'>\n"
     ]
    }
   ],
   "source": [
    "print(type(x))\n",
    "print(type(y))"
   ]
  },
  {
   "cell_type": "code",
   "execution_count": null,
   "metadata": {},
   "outputs": [],
   "source": [
    "for elem in x:\n",
    "    ..."
   ]
  },
  {
   "attachments": {
    "iteration.png": {
     "image/png": "[encoded data removed]"
    }
   },
   "cell_type": "markdown",
   "metadata": {},
   "source": [
    "![iteration.png](attachment:iteration.png)"
   ]
  },
  {
   "cell_type": "markdown",
   "metadata": {},
   "source": [
    "Simply speaking, a generator is a function that returns an object (iterator) which we can iterate over (one value at a time).\n",
    "\n",
    "### How to create a generator?  --- yield\n",
    "It is fairly simple to create a generator in Python. It is as easy as defining a normal function with yield statement instead of a return statement.\n",
    "\n",
    "\n"
   ]
  },
  {
   "cell_type": "code",
   "execution_count": 15,
   "metadata": {},
   "outputs": [
    {
     "name": "stdout",
     "output_type": "stream",
     "text": [
      "[1, 3, 5, 7, 9, 11, 13, 15, 17, 19]\n"
     ]
    }
   ],
   "source": [
    "def myGenerator(ls):\n",
    "    for i in ls:\n",
    "        yield i*100\n",
    "      \n",
    "        \n",
    "ls = [2*x+1 for x in range(10)]\n",
    "print(ls)"
   ]
  },
  {
   "cell_type": "code",
   "execution_count": 16,
   "metadata": {},
   "outputs": [],
   "source": [
    "a = myGenerator(ls)"
   ]
  },
  {
   "cell_type": "code",
   "execution_count": 17,
   "metadata": {},
   "outputs": [
    {
     "data": {
      "text/plain": [
       "<generator object myGenerator at 0x110eb4d00>"
      ]
     },
     "execution_count": 17,
     "metadata": {},
     "output_type": "execute_result"
    }
   ],
   "source": [
    "a"
   ]
  },
  {
   "cell_type": "code",
   "execution_count": 18,
   "metadata": {},
   "outputs": [
    {
     "data": {
      "text/plain": [
       "100"
      ]
     },
     "execution_count": 18,
     "metadata": {},
     "output_type": "execute_result"
    }
   ],
   "source": [
    "next(a)"
   ]
  },
  {
   "cell_type": "code",
   "execution_count": 19,
   "metadata": {},
   "outputs": [
    {
     "name": "stdout",
     "output_type": "stream",
     "text": [
      "100\n",
      "300\n",
      "500\n",
      "700\n",
      "900\n",
      "1100\n",
      "1300\n",
      "1500\n",
      "1700\n",
      "1900\n"
     ]
    }
   ],
   "source": [
    "a = myGenerator(ls)\n",
    "for ele in a:\n",
    "    print(ele)"
   ]
  },
  {
   "cell_type": "markdown",
   "metadata": {},
   "source": [
    "* List, dictionary and tuple are all iterable objects. You can get a iterator by using __iter(myList)__. <br>\n",
    "* In fact, when you use __for__ and __in__ statement, it will create an iterator based on your object, then go through it.\n",
    "* Use __next(myIterator)__ to call the next value of your generator/iterator, until a StopIteration signal raised."
   ]
  },
  {
   "cell_type": "code",
   "execution_count": 20,
   "metadata": {},
   "outputs": [
    {
     "name": "stdout",
     "output_type": "stream",
     "text": [
      "0\n",
      "100\n",
      "200\n",
      "300\n",
      "400\n",
      "500\n",
      "600\n",
      "700\n",
      "800\n",
      "900\n"
     ]
    },
    {
     "ename": "StopIteration",
     "evalue": "",
     "output_type": "error",
     "traceback": [
      "\u001b[0;31m---------------------------------------------------------------------------\u001b[0m",
      "\u001b[0;31mStopIteration\u001b[0m                             Traceback (most recent call last)",
      "\u001b[0;32m<ipython-input-20-c9629bc95595>\u001b[0m in \u001b[0;36m<module>\u001b[0;34m\u001b[0m\n\u001b[1;32m      2\u001b[0m \u001b[0;34m\u001b[0m\u001b[0m\n\u001b[1;32m      3\u001b[0m \u001b[0;32mwhile\u001b[0m \u001b[0;32mTrue\u001b[0m\u001b[0;34m:\u001b[0m\u001b[0;34m\u001b[0m\u001b[0;34m\u001b[0m\u001b[0m\n\u001b[0;32m----> 4\u001b[0;31m     \u001b[0mprint\u001b[0m\u001b[0;34m(\u001b[0m\u001b[0mnext\u001b[0m\u001b[0;34m(\u001b[0m\u001b[0ma\u001b[0m\u001b[0;34m)\u001b[0m\u001b[0;34m)\u001b[0m\u001b[0;34m\u001b[0m\u001b[0;34m\u001b[0m\u001b[0m\n\u001b[0m",
      "\u001b[0;31mStopIteration\u001b[0m: "
     ]
    }
   ],
   "source": [
    "a = myGenerator(range(10))\n",
    "\n",
    "while True:\n",
    "    print(next(a))"
   ]
  },
  {
   "cell_type": "code",
   "execution_count": 21,
   "metadata": {},
   "outputs": [
    {
     "name": "stdout",
     "output_type": "stream",
     "text": [
      "a\n",
      "b\n",
      "c\n"
     ]
    },
    {
     "ename": "StopIteration",
     "evalue": "",
     "output_type": "error",
     "traceback": [
      "\u001b[0;31m---------------------------------------------------------------------------\u001b[0m",
      "\u001b[0;31mStopIteration\u001b[0m                             Traceback (most recent call last)",
      "\u001b[0;32m<ipython-input-21-208cbfabddcf>\u001b[0m in \u001b[0;36m<module>\u001b[0;34m\u001b[0m\n\u001b[1;32m      5\u001b[0m \u001b[0;34m\u001b[0m\u001b[0m\n\u001b[1;32m      6\u001b[0m \u001b[0;32mwhile\u001b[0m \u001b[0;32mTrue\u001b[0m\u001b[0;34m:\u001b[0m\u001b[0;34m\u001b[0m\u001b[0;34m\u001b[0m\u001b[0m\n\u001b[0;32m----> 7\u001b[0;31m     \u001b[0mprint\u001b[0m\u001b[0;34m(\u001b[0m\u001b[0mnext\u001b[0m\u001b[0;34m(\u001b[0m\u001b[0mb_iter\u001b[0m\u001b[0;34m)\u001b[0m\u001b[0;34m)\u001b[0m\u001b[0;34m\u001b[0m\u001b[0;34m\u001b[0m\u001b[0m\n\u001b[0m",
      "\u001b[0;31mStopIteration\u001b[0m: "
     ]
    }
   ],
   "source": [
    "b = {'a':100,\n",
    "     'b':200,\n",
    "     'c':300}\n",
    "b_iter = iter(b)\n",
    "\n",
    "while True:\n",
    "    print(next(b_iter))"
   ]
  },
  {
   "cell_type": "code",
   "execution_count": 22,
   "metadata": {},
   "outputs": [],
   "source": [
    "def fib():\n",
    "    prev, curr = 0, 1\n",
    "    while True:\n",
    "        yield curr\n",
    "        prev, curr = curr, curr + prev\n",
    "\n",
    "f = fib()"
   ]
  },
  {
   "cell_type": "code",
   "execution_count": 34,
   "metadata": {},
   "outputs": [
    {
     "data": {
      "text/plain": [
       "8"
      ]
     },
     "execution_count": 34,
     "metadata": {},
     "output_type": "execute_result"
    }
   ],
   "source": [
    "next(f)"
   ]
  },
  {
   "cell_type": "code",
   "execution_count": 35,
   "metadata": {},
   "outputs": [
    {
     "ename": "SyntaxError",
     "evalue": "can't assign to Ellipsis (<ipython-input-35-96752e626f2a>, line 3)",
     "output_type": "error",
     "traceback": [
      "\u001b[0;36m  File \u001b[0;32m\"<ipython-input-35-96752e626f2a>\"\u001b[0;36m, line \u001b[0;32m3\u001b[0m\n\u001b[0;31m    for ... in ...:\u001b[0m\n\u001b[0m       ^\u001b[0m\n\u001b[0;31mSyntaxError\u001b[0m\u001b[0;31m:\u001b[0m can't assign to Ellipsis\n"
     ]
    }
   ],
   "source": [
    "def something():\n",
    "    result = []\n",
    "    for ... in ...:\n",
    "        result.append(x)\n",
    "    return result"
   ]
  },
  {
   "cell_type": "code",
   "execution_count": null,
   "metadata": {},
   "outputs": [],
   "source": [
    "def iter_something():\n",
    "    for ... in ...:\n",
    "        yield x"
   ]
  },
  {
   "attachments": {
    "uua7ktdfc4.png": {
     "image/png": "[encoded data removed]"
    }
   },
   "cell_type": "markdown",
   "metadata": {},
   "source": [
    "![uua7ktdfc4.png](attachment:uua7ktdfc4.png)"
   ]
  },
  {
   "cell_type": "markdown",
   "metadata": {},
   "source": [
    "## 1.3. Lambda"
   ]
  },
  {
   "cell_type": "code",
   "execution_count": null,
   "metadata": {},
   "outputs": [],
   "source": [
    "# Syntax: functionName = lambda varible: expression\n",
    "'''\n",
    "def fun(x):\n",
    "    return 2*x+1\n",
    "    \n",
    "'''\n",
    "\n",
    "fun = lambda x: 2*x+1\n",
    "print(fun(3))"
   ]
  },
  {
   "cell_type": "code",
   "execution_count": null,
   "metadata": {},
   "outputs": [],
   "source": [
    "fun1 = lambda x, y, z: x**2 + y**2 + z**2\n",
    "fun1(1,2,3)"
   ]
  },
  {
   "cell_type": "markdown",
   "metadata": {},
   "source": [
    "## 1.4 inner function"
   ]
  },
  {
   "cell_type": "markdown",
   "metadata": {},
   "source": [
    "* Function is a object in python (everything is object accually). So Python allows defining a function in a function, and return this function."
   ]
  },
  {
   "cell_type": "code",
   "execution_count": null,
   "metadata": {},
   "outputs": [],
   "source": [
    "def parent():\n",
    "    print(\"Printing from the parent() function\")\n",
    "\n",
    "    def first_child():\n",
    "        print(\"Printing from the first_child() function\")\n",
    "\n",
    "    def second_child():\n",
    "        print(\"Printing from the second_child() function\")\n",
    "\n",
    "    second_child()\n",
    "    first_child()\n",
    "\n",
    "    \n",
    "parent()"
   ]
  },
  {
   "cell_type": "code",
   "execution_count": null,
   "metadata": {},
   "outputs": [],
   "source": [
    "second_child()"
   ]
  },
  {
   "cell_type": "code",
   "execution_count": null,
   "metadata": {},
   "outputs": [],
   "source": [
    "def parent(num):\n",
    "    def first_child():\n",
    "        return \"Hi, I am Emma\"\n",
    "\n",
    "    def second_child():\n",
    "        return \"Call me Liam\"\n",
    "\n",
    "    if num == 1:\n",
    "        return first_child\n",
    "    else:\n",
    "        return second_child"
   ]
  },
  {
   "cell_type": "code",
   "execution_count": null,
   "metadata": {},
   "outputs": [],
   "source": [
    "first = parent(1)\n",
    "\n",
    "second = parent(2)\n",
    "\n",
    "print(first, second)"
   ]
  },
  {
   "cell_type": "code",
   "execution_count": null,
   "metadata": {},
   "outputs": [],
   "source": [
    "print(first(), second())"
   ]
  },
  {
   "cell_type": "markdown",
   "metadata": {},
   "source": [
    "## 2. String\n",
    "In last lecture we have already know how to slice a list. Indexing and slicing operation work in the same way for string, let's look into the example in last lecture."
   ]
  },
  {
   "cell_type": "markdown",
   "metadata": {},
   "source": [
    "### 2.1. Index"
   ]
  },
  {
   "cell_type": "code",
   "execution_count": 1,
   "metadata": {},
   "outputs": [
    {
     "name": "stdout",
     "output_type": "stream",
     "text": [
      "Hello World!\n",
      "H\n",
      "llo\n",
      "llo World!\n",
      "!\n",
      "ld!\n",
      "HloWr\n",
      "!dlroW olleH\n"
     ]
    }
   ],
   "source": [
    "#idx:0123456789x \n",
    "s = 'Hello World!'\n",
    "\n",
    "print(s)          # Prints complete list\n",
    "print(s[0])       # Prints first element \n",
    "print(s[2:5])     # Prints elements starting from 3rd to 5th\n",
    "print(s[2:] )     # Prints list starting from 3rd element\n",
    "print(s[-1])      # Prints the last element \n",
    "print(s[-3:]) \n",
    "print(s[0:10:2])   # step-wise slicing; extracting characters with even indexes from the first 10 characters\n",
    "print(s[::-1]) # A frequently used pattern."
   ]
  },
  {
   "cell_type": "markdown",
   "metadata": {},
   "source": [
    "### 2.2. Methods"
   ]
  },
  {
   "cell_type": "code",
   "execution_count": 2,
   "metadata": {},
   "outputs": [
    {
     "data": {
      "text/plain": [
       "['__add__',\n",
       " '__class__',\n",
       " '__contains__',\n",
       " '__delattr__',\n",
       " '__dir__',\n",
       " '__doc__',\n",
       " '__eq__',\n",
       " '__format__',\n",
       " '__ge__',\n",
       " '__getattribute__',\n",
       " '__getitem__',\n",
       " '__getnewargs__',\n",
       " '__gt__',\n",
       " '__hash__',\n",
       " '__init__',\n",
       " '__iter__',\n",
       " '__le__',\n",
       " '__len__',\n",
       " '__lt__',\n",
       " '__mod__',\n",
       " '__mul__',\n",
       " '__ne__',\n",
       " '__new__',\n",
       " '__reduce__',\n",
       " '__reduce_ex__',\n",
       " '__repr__',\n",
       " '__rmod__',\n",
       " '__rmul__',\n",
       " '__setattr__',\n",
       " '__sizeof__',\n",
       " '__str__',\n",
       " '__subclasshook__',\n",
       " 'capitalize',\n",
       " 'casefold',\n",
       " 'center',\n",
       " 'count',\n",
       " 'encode',\n",
       " 'endswith',\n",
       " 'expandtabs',\n",
       " 'find',\n",
       " 'format',\n",
       " 'format_map',\n",
       " 'index',\n",
       " 'isalnum',\n",
       " 'isalpha',\n",
       " 'isdecimal',\n",
       " 'isdigit',\n",
       " 'isidentifier',\n",
       " 'islower',\n",
       " 'isnumeric',\n",
       " 'isprintable',\n",
       " 'isspace',\n",
       " 'istitle',\n",
       " 'isupper',\n",
       " 'join',\n",
       " 'ljust',\n",
       " 'lower',\n",
       " 'lstrip',\n",
       " 'maketrans',\n",
       " 'partition',\n",
       " 'replace',\n",
       " 'rfind',\n",
       " 'rindex',\n",
       " 'rjust',\n",
       " 'rpartition',\n",
       " 'rsplit',\n",
       " 'rstrip',\n",
       " 'split',\n",
       " 'splitlines',\n",
       " 'startswith',\n",
       " 'strip',\n",
       " 'swapcase',\n",
       " 'title',\n",
       " 'translate',\n",
       " 'upper',\n",
       " 'zfill']"
      ]
     },
     "execution_count": 2,
     "metadata": {},
     "output_type": "execute_result"
    }
   ],
   "source": [
    "dir(str())"
   ]
  },
  {
   "cell_type": "code",
   "execution_count": 3,
   "metadata": {},
   "outputs": [
    {
     "name": "stdout",
     "output_type": "stream",
     "text": [
      "This string is for TEST.\n"
     ]
    }
   ],
   "source": [
    "string='   This string is for TEST.    '\n",
    "print (string.strip() )            # remove both leading and trailing spaces"
   ]
  },
  {
   "cell_type": "code",
   "execution_count": null,
   "metadata": {},
   "outputs": [],
   "source": [
    "string='   This string is for TEST.    '"
   ]
  },
  {
   "cell_type": "code",
   "execution_count": 4,
   "metadata": {},
   "outputs": [
    {
     "name": "stdout",
     "output_type": "stream",
     "text": [
      "This string is for TEST.    \n"
     ]
    }
   ],
   "source": [
    "print (string.lstrip() )           # remove leading spaces"
   ]
  },
  {
   "cell_type": "code",
   "execution_count": 5,
   "metadata": {},
   "outputs": [
    {
     "name": "stdout",
     "output_type": "stream",
     "text": [
      "   This string is for TEST.\n"
     ]
    }
   ],
   "source": [
    "print (string.rstrip()  )          # remove trailing spaces"
   ]
  },
  {
   "cell_type": "code",
   "execution_count": 6,
   "metadata": {},
   "outputs": [
    {
     "name": "stdout",
     "output_type": "stream",
     "text": [
      "['', '', '', 'This', 'string', 'is', 'for', 'TEST.', '', '', '', '']\n"
     ]
    }
   ],
   "source": [
    "print (string.split(\" \")) \n",
    "# split s by delimiter \" \" into a list"
   ]
  },
  {
   "cell_type": "code",
   "execution_count": 7,
   "metadata": {},
   "outputs": [
    {
     "name": "stdout",
     "output_type": "stream",
     "text": [
      "   this string is for test.    \n"
     ]
    }
   ],
   "source": [
    "print (string.lower())             # convert to lowercase"
   ]
  },
  {
   "cell_type": "code",
   "execution_count": 8,
   "metadata": {},
   "outputs": [
    {
     "name": "stdout",
     "output_type": "stream",
     "text": [
      "   THIS STRING IS FOR TEST.    \n"
     ]
    }
   ],
   "source": [
    "print (string.upper())             # convert to uppercase\n"
   ]
  },
  {
   "cell_type": "code",
   "execution_count": 14,
   "metadata": {},
   "outputs": [],
   "source": [
    "test = 'my email address is dwang35@stevens.edu'"
   ]
  },
  {
   "cell_type": "code",
   "execution_count": 15,
   "metadata": {},
   "outputs": [
    {
     "data": {
      "text/plain": [
       "27"
      ]
     },
     "execution_count": 15,
     "metadata": {},
     "output_type": "execute_result"
    }
   ],
   "source": [
    "test.find('@')"
   ]
  },
  {
   "cell_type": "code",
   "execution_count": 16,
   "metadata": {},
   "outputs": [
    {
     "data": {
      "text/plain": [
       "'dwang35'"
      ]
     },
     "execution_count": 16,
     "metadata": {},
     "output_type": "execute_result"
    }
   ],
   "source": [
    "test[27-7:27]"
   ]
  },
  {
   "cell_type": "code",
   "execution_count": 10,
   "metadata": {},
   "outputs": [
    {
     "name": "stdout",
     "output_type": "stream",
     "text": [
      "6\n"
     ]
    }
   ],
   "source": [
    "print (string.find(\"s\", 2))           # get the index of the first \"T\" in s starting from the left;\n",
    "                                    #return -1 if \"T\" is not in string"
   ]
  },
  {
   "cell_type": "code",
   "execution_count": 12,
   "metadata": {},
   "outputs": [
    {
     "name": "stdout",
     "output_type": "stream",
     "text": [
      "25\n"
     ]
    }
   ],
   "source": [
    "print (string.rfind(\"T\"))          # get the index of the first \"T\" in s starting from the right; \n",
    "                                    #return -1 if \"T\" is not in string"
   ]
  },
  {
   "cell_type": "code",
   "execution_count": 17,
   "metadata": {},
   "outputs": [
    {
     "name": "stdout",
     "output_type": "stream",
     "text": [
      "   **his string is for **ES**.    \n"
     ]
    }
   ],
   "source": [
    "print (string.replace(\"T\", \"**\"))  # replace all occurrences of \"W\" by \"**\""
   ]
  },
  {
   "cell_type": "code",
   "execution_count": 19,
   "metadata": {},
   "outputs": [
    {
     "name": "stdout",
     "output_type": "stream",
     "text": [
      "True\n"
     ]
    }
   ],
   "source": [
    "print ('his' in string)"
   ]
  },
  {
   "cell_type": "code",
   "execution_count": 21,
   "metadata": {},
   "outputs": [
    {
     "name": "stdout",
     "output_type": "stream",
     "text": [
      "['', '', '', 'This', 'string', 'is', 'for', 'TEST.', '', '', '', '']\n",
      "******This**string**is**for**TEST.********\n"
     ]
    }
   ],
   "source": [
    "string2list = string.split(' ')\n",
    "list2string = '**'.join(string2list)\n",
    "print(string2list)\n",
    "print(list2string)"
   ]
  },
  {
   "cell_type": "markdown",
   "metadata": {},
   "source": [
    "#### \\*Optional: regular expression: https://www.py4e.com/lessons/regex"
   ]
  },
  {
   "cell_type": "markdown",
   "metadata": {},
   "source": [
    "### 2.3. String formatting"
   ]
  },
  {
   "cell_type": "markdown",
   "metadata": {},
   "source": [
    "Python supports formatting values into strings. Although this can include very complicated expressions, the most\n",
    "basic usage is to insert values into a string with the %s placeholder, %s stands for a placeholder for string, and %d stands for a integer. %f stands for a float number with fixed points.<br>\n",
    "\\*More information: https://docs.python.org/3.6/library/string.html#format-string-syntax"
   ]
  },
  {
   "cell_type": "markdown",
   "metadata": {},
   "source": [
    "###### Introducing String Formatting"
   ]
  },
  {
   "cell_type": "code",
   "execution_count": 22,
   "metadata": {},
   "outputs": [
    {
     "name": "stdout",
     "output_type": "stream",
     "text": [
      "First, thou shalt count to 200\n",
      "Bring me a banana\n",
      "From Hoboken to Jersey City\n",
      "My name is Peter, I am 23 years old.\n",
      "Units destroyed: 101\n"
     ]
    }
   ],
   "source": [
    "print(\"First, thou shalt count to {1}\".format(100,200))  # References first positional argument\n",
    "print(\"Bring me a {}\".format('banana'))                   # Implicitly references the first positional argument\n",
    "print(\"From {1} to {0}\".format('Jersey City', 'Hoboken'))                   # Same as \"From {0} to {1}\"\n",
    "print(\"My name is {name}, I am {age} years old.\".format(name = 'Peter', age = 23))  # References keyword argument 'name'\n",
    "print(\"Units destroyed: {players[1]}\".format(players = [100,101,102]))   # First element of keyword argument 'players'\n",
    "\n"
   ]
  },
  {
   "cell_type": "markdown",
   "metadata": {},
   "source": [
    "###### Another way to format string"
   ]
  },
  {
   "cell_type": "code",
   "execution_count": 23,
   "metadata": {},
   "outputs": [
    {
     "data": {
      "text/plain": [
       "'this is fe520 uid = sa, 4'"
      ]
     },
     "execution_count": 23,
     "metadata": {},
     "output_type": "execute_result"
    }
   ],
   "source": [
    "k = 'uid'\n",
    "v = \"sa\"\n",
    "\"this is fe520 %s = %s, %d\" % (k, v, 4.0)"
   ]
  },
  {
   "cell_type": "markdown",
   "metadata": {},
   "source": [
    "###### Formatting Numbers"
   ]
  },
  {
   "cell_type": "code",
   "execution_count": 24,
   "metadata": {},
   "outputs": [
    {
     "name": "stdout",
     "output_type": "stream",
     "text": [
      "Today's stock price: 50.462500\n"
     ]
    }
   ],
   "source": [
    "print(\"Today's stock price: %f\" % 50.4625)"
   ]
  },
  {
   "cell_type": "code",
   "execution_count": 25,
   "metadata": {},
   "outputs": [
    {
     "name": "stdout",
     "output_type": "stream",
     "text": [
      "Today's stock price: 50.47\n"
     ]
    }
   ],
   "source": [
    "print(\"Today's stock price: %0.2f\" % 50.4675)"
   ]
  },
  {
   "cell_type": "code",
   "execution_count": 26,
   "metadata": {},
   "outputs": [
    {
     "name": "stdout",
     "output_type": "stream",
     "text": [
      "Change since yesterday: 1.5000\n"
     ]
    }
   ],
   "source": [
    "print(\"Change since yesterday: %.4f\" % 1.5)"
   ]
  },
  {
   "cell_type": "markdown",
   "metadata": {},
   "source": [
    "## 3. Importing modules"
   ]
  },
  {
   "cell_type": "markdown",
   "metadata": {},
   "source": [
    "* Using import statement to import modules or packages in Python\n",
    "* sys.path will show a list of paths where this interpreter searches modules.\n",
    "* Basic syntax I: __import myPackage.myModule as Alias__\n",
    "* Basic syntax II: __from myPackage.myModule import myModule (or myObject)__\n",
    "* You can also use: __from myPackage import *__ , but such syntax is not safe because it will import all objects into your global namescope. Try to avoid such syntax.\n",
    "* Create \\_\\_init\\_\\_.py in the package directory"
   ]
  },
  {
   "cell_type": "code",
   "execution_count": 27,
   "metadata": {},
   "outputs": [
    {
     "data": {
      "text/plain": [
       "['',\n",
       " '/Users/DanWang/anaconda3/envs/tensorflow/lib/python35.zip',\n",
       " '/Users/DanWang/anaconda3/envs/tensorflow/lib/python3.5',\n",
       " '/Users/DanWang/anaconda3/envs/tensorflow/lib/python3.5/plat-darwin',\n",
       " '/Users/DanWang/anaconda3/envs/tensorflow/lib/python3.5/lib-dynload',\n",
       " '/Users/DanWang/anaconda3/envs/tensorflow/lib/python3.5/site-packages',\n",
       " '/Users/DanWang/anaconda3/envs/tensorflow/lib/python3.5/site-packages/IPython/extensions',\n",
       " '/Users/DanWang/.ipython']"
      ]
     },
     "execution_count": 27,
     "metadata": {},
     "output_type": "execute_result"
    }
   ],
   "source": [
    "# packages/modules search path\n",
    "import sys\n",
    "sys.path"
   ]
  },
  {
   "cell_type": "code",
   "execution_count": 28,
   "metadata": {},
   "outputs": [
    {
     "name": "stdout",
     "output_type": "stream",
     "text": [
      "/Users/DanWang/Desktop/Stevens/MyTeaches/FE520/notebook\n"
     ]
    }
   ],
   "source": [
    "# Get your current working folder\n",
    "import os\n",
    "print(os.getcwd())"
   ]
  },
  {
   "cell_type": "code",
   "execution_count": 29,
   "metadata": {},
   "outputs": [],
   "source": [
    "# Set a alias 't' for module 'time'\n",
    "import numpy as np\n",
    "import pandas as pd"
   ]
  },
  {
   "cell_type": "code",
   "execution_count": 30,
   "metadata": {},
   "outputs": [
    {
     "data": {
      "text/plain": [
       "array([1, 2, 3, 4])"
      ]
     },
     "execution_count": 30,
     "metadata": {},
     "output_type": "execute_result"
    }
   ],
   "source": [
    "np.array([1,2,3,4])"
   ]
  },
  {
   "cell_type": "code",
   "execution_count": null,
   "metadata": {},
   "outputs": [],
   "source": [
    "import math"
   ]
  },
  {
   "cell_type": "code",
   "execution_count": null,
   "metadata": {},
   "outputs": [],
   "source": [
    "# Get all built-in functions and objects\n",
    "import builtins\n",
    "dir(builtins)"
   ]
  },
  {
   "cell_type": "markdown",
   "metadata": {},
   "source": [
    "### 3.1. Create your module"
   ]
  },
  {
   "cell_type": "markdown",
   "metadata": {},
   "source": [
    "* You can create your module by write your functions, classes, objects in a python script;\n",
    "* When importing this module, make sure your interpreter can find this module;\n",
    "* Generally, we put individual module and main script in a same folder;\n",
    "* Write a test block by using \\_\\_name\\_\\_ == '\\_\\_main\\_\\_'\n",
    "* .pyc file: a compiled file of your module.\n"
   ]
  },
  {
   "cell_type": "markdown",
   "metadata": {},
   "source": [
    "#### 3.1.1 An example: Fibonacci \n",
    "See attached files. Execute main.py and main2.py in attached directory. "
   ]
  },
  {
   "cell_type": "markdown",
   "metadata": {},
   "source": [
    "### 3.2. Create your packages\n",
    "* Create a file called \\_\\_init\\_\\_.py in your package and subpackages. It tells interpreter to regard this directory as a package. It can be an empty file.\n",
    "* \n",
    "* Note that code in this section may not work if your interpreter can not find this package."
   ]
  },
  {
   "cell_type": "code",
   "execution_count": null,
   "metadata": {},
   "outputs": [],
   "source": [
    "#### A package structure example:\n",
    "'''\n",
    "sound/                          Top-level package\n",
    "      __init__.py               Initialize the sound package\n",
    "      formats/                  Subpackage for file format conversions\n",
    "              __init__.py\n",
    "              wavread.py\n",
    "              wavwrite.py\n",
    "              aiffread.py\n",
    "              aiffwrite.py\n",
    "              auread.py\n",
    "              auwrite.py\n",
    "              ...\n",
    "      effects/                  Subpackage for sound effects\n",
    "              __init__.py\n",
    "              echo.py\n",
    "              surround.py\n",
    "              reverse.py\n",
    "              ...\n",
    "      filters/                  Subpackage for filters\n",
    "              __init__.py\n",
    "              equalizer.py\n",
    "              vocoder.py\n",
    "              karaoke.py\n",
    "              ...\n",
    "'''"
   ]
  },
  {
   "cell_type": "markdown",
   "metadata": {},
   "source": [
    "Your python interpreter will look for this package through __sys.path__.<br>\n",
    "Users of this package can import each individual module by using such syntax:"
   ]
  },
  {
   "cell_type": "code",
   "execution_count": null,
   "metadata": {},
   "outputs": [],
   "source": [
    "import sound.effects.echo"
   ]
  },
  {
   "cell_type": "markdown",
   "metadata": {},
   "source": [
    "Alternatively, we can also use such syntax:"
   ]
  },
  {
   "cell_type": "code",
   "execution_count": null,
   "metadata": {},
   "outputs": [],
   "source": [
    "from sound.effects import echo"
   ]
  },
  {
   "cell_type": "markdown",
   "metadata": {},
   "source": [
    "You can call the functions or varibles in echo.py like this:"
   ]
  },
  {
   "cell_type": "code",
   "execution_count": null,
   "metadata": {},
   "outputs": [],
   "source": [
    "echo.echofilter(input, output, delay=0.7, atten=4)"
   ]
  },
  {
   "cell_type": "markdown",
   "metadata": {},
   "source": [
    "Alternatively, you can also import functions or varibles into global scope."
   ]
  },
  {
   "cell_type": "code",
   "execution_count": null,
   "metadata": {},
   "outputs": [],
   "source": [
    "from sound.effects.echo import echofilter\n",
    "\n",
    "echofilter(input, output, delay=0.7, atten=4)"
   ]
  },
  {
   "cell_type": "markdown",
   "metadata": {},
   "source": [
    "### 3.3. Intra-package References"
   ]
  },
  {
   "cell_type": "markdown",
   "metadata": {},
   "source": [
    "You can also write relative imports, with the from module import name form of import statement. These imports use leading dots to indicate the current and parent packages involved in the relative import. From the __surround.py__ module for example, you might use:"
   ]
  },
  {
   "cell_type": "code",
   "execution_count": null,
   "metadata": {},
   "outputs": [],
   "source": [
    "from . import echo\n",
    "from .. import formats\n",
    "from ..filters import equalizer"
   ]
  },
  {
   "cell_type": "markdown",
   "metadata": {},
   "source": [
    "Reference: https://docs.python.org/3/tutorial/modules.html"
   ]
  },
  {
   "cell_type": "markdown",
   "metadata": {},
   "source": [
    "## 4. File Input/Output ##"
   ]
  },
  {
   "cell_type": "code",
   "execution_count": 31,
   "metadata": {},
   "outputs": [],
   "source": [
    "#  write data to a file\n",
    "\n",
    "lines=[\"Python is a great language\\n\",\"Yeah it's great!!\\n\"]\n",
    "# open a file in \"w\" (writing) mode. \n",
    "# foo.txt will be saved to your current working folder\n",
    "f = open(\"foo.txt\", \"w\")      \n",
    "#dir(f)"
   ]
  },
  {
   "cell_type": "code",
   "execution_count": 32,
   "metadata": {},
   "outputs": [],
   "source": [
    "# write all lines to file\n",
    "f.writelines(lines);                           "
   ]
  },
  {
   "cell_type": "code",
   "execution_count": 33,
   "metadata": {},
   "outputs": [],
   "source": [
    "# Close opened file\n",
    "f.close()      "
   ]
  },
  {
   "cell_type": "code",
   "execution_count": 34,
   "metadata": {},
   "outputs": [
    {
     "name": "stdout",
     "output_type": "stream",
     "text": [
      "['Python is a great language\\n', \"Yeah it's great!!\\n\"]\n",
      "['Python is a great language\\n', \"Yeah it's great!!\\n\"]\n"
     ]
    }
   ],
   "source": [
    "#  read data from a file\n",
    "\n",
    "# open a file in \"r\" (reading) mode\n",
    "f = open(\"foo.txt\", \"r\")                       \n",
    "# loop through all lines\n",
    "lines=[(line) for line in (f)]                     \n",
    "print (lines)\n",
    "f.close()\n",
    "\n",
    "# read all lines in one time\n",
    "f = open(\"foo.txt\", \"r\")\n",
    "print (f.readlines())                            \n",
    "# Close opend file\n",
    "f.close()"
   ]
  },
  {
   "cell_type": "code",
   "execution_count": 35,
   "metadata": {},
   "outputs": [
    {
     "name": "stdout",
     "output_type": "stream",
     "text": [
      "[['1 1.0'], ['2 3.5'], ['4 5.8'], ['5 0.8']]\n"
     ]
    }
   ],
   "source": [
    "# work with csv files\n",
    "\n",
    "# csv is a package to handle csv files\n",
    "import csv                                       \n",
    "\n",
    "# write csv file\n",
    "rows=[(1,1.0), (2, 3.5), (4, 5.8), (5, 0.8)]\n",
    "\n",
    "# use \"with\" statement to automatically \n",
    "# close the file after completing the block   \n",
    "with open(\"foo.csv\", \"w\") as f:  \n",
    "    # write to a csv file delimited \n",
    "    # by \"\\t\" (you can set \",\" or other delimiters)                    \n",
    "    writer=csv.writer(f, delimiter=' ')          \n",
    "    writer.writerows(rows)\n",
    "    \n",
    "# read csv file\n",
    "with open(\"foo.csv\", \"r\") as f:\n",
    "    # read a csv file delimited by \\t\" \n",
    "    reader=csv.reader(f, delimiter='\\t') \n",
    "    # each row is a list of strings\n",
    "    # use int/float to convert strings to numbers\n",
    "    rows=[(row) for row in reader]      \n",
    "    \n",
    "    print (rows)\n",
    "    \n",
    "# what if you'd like to also get line number, e.g. 1, 2, 3, ...?"
   ]
  },
  {
   "cell_type": "code",
   "execution_count": null,
   "metadata": {},
   "outputs": [],
   "source": []
  }
 ],
 "metadata": {
  "kernelspec": {
   "display_name": "Python 3",
   "language": "python",
   "name": "python3"
  },
  "language_info": {
   "codemirror_mode": {
    "name": "ipython",
    "version": 3
   },
   "file_extension": ".py",
   "mimetype": "text/x-python",
   "name": "python",
   "nbconvert_exporter": "python",
   "pygments_lexer": "ipython3",
   "version": "3.6.9"
  }
 },
 "nbformat": 4,
 "nbformat_minor": 1
}
