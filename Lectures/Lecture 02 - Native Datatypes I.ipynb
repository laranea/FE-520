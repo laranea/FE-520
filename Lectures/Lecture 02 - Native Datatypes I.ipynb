{
 "cells": [
  {
   "cell_type": "markdown",
   "metadata": {},
   "source": [
    "# Python Basic Syntax\n",
    "\n",
    "### Rules for naming a object ###\n",
    "__In python, almost everything is a object (module, varible, class, function ...).__\n",
    " - __Starts with__ a letter or underscore (\\_) __followed by__ letters, underscore, and digits.\n",
    "     eg: name\\_ , name\\_1, name1, \\_name , \\_\\_name\n",
    " - Case sensitive: 'Name', 'name'\n",
    " - No punctuations\n",
    " - Reserved words (33 from Python 3.3):  False, True,  None,\tclass,\tfinally,\tis,\treturn,\n",
    "\tcontinue,\tfor,\tlambda,\ttry,\n",
    "\tdef,\tfrom,\tnonlocal,\twhile, and,\tdel,\tglobal,\tnot,\twith, as,\telif,\tif,\tor,\tyield, assert,\telse,\timport,\tpass,\t break,\texcept,\tin,\traise \n",
    "\n",
    "### Code blocks ###\n",
    " * Python use ':' and indentation to indicate the start of code blocks. (Not braces, compared with C++, Java, R, etc)\n",
    " * Blocks of code are denoted by <font color=blue>**line indentation**</font> (**not braces!**)\n",
    " * The number of spaces in the indentation varies, <font color=blue> ** but all statements within the block must be indented the same amount ** </font>\n",
    " *  All the consecutive lines indented with same number of spaces to form a block\n"
   ]
  },
  {
   "cell_type": "code",
   "execution_count": 2,
   "metadata": {},
   "outputs": [
    {
     "name": "stdout",
     "output_type": "stream",
     "text": [
      "head\ttail\n",
      "head    tail\n"
     ]
    }
   ],
   "source": [
    "print('head\\ttail')\n",
    "print('head    tail')"
   ]
  },
  {
   "cell_type": "code",
   "execution_count": null,
   "metadata": {},
   "outputs": [],
   "source": [
    "if True:\n",
    "    print('first line of body')\n",
    "    print('second line of body')\n",
    "print('out of body')"
   ]
  },
  {
   "cell_type": "code",
   "execution_count": null,
   "metadata": {},
   "outputs": [],
   "source": [
    "for i in [1,2,3,4]:\n",
    "    if i<2:\n",
    "        print('It is true.')\n",
    "        print(i)\n",
    "    else:\n",
    "        print('It is false')\n",
    "    print('One loop is finished')\n",
    "print('All loop is finished')"
   ]
  },
  {
   "cell_type": "code",
   "execution_count": null,
   "metadata": {},
   "outputs": [],
   "source": [
    "import sys\n",
    "sys.path"
   ]
  },
  {
   "cell_type": "markdown",
   "metadata": {},
   "source": [
    "###  Quotation ###\n",
    " * **single (<font color=blue>'</font>)**, **double (<font color=blue>\"</font>)** and **triple (<font color=blue>'''</font> or <font color=blue>\"\"\"</font>)** quotes are acceptable to denote string literals\n",
    " * The triple quotes are used to span the string across multiple lines."
   ]
  },
  {
   "cell_type": "code",
   "execution_count": null,
   "metadata": {},
   "outputs": [],
   "source": [
    "word = 'word'\n",
    "print(word)\n",
    "\n",
    "sentence = 'I'm a genius.'\n",
    "print(sentence)\n",
    "\n",
    "paragraph = \"\"\"This is a \"paragraph\" with multiple lines. \n",
    "line 1\n",
    "line 2\"\"\"\n",
    "print (paragraph)"
   ]
  },
  {
   "cell_type": "markdown",
   "metadata": {},
   "source": [
    "### One line of code ###\n",
    "* Generally, Python uses carriage return to seperate lines (not ';' compared with C/C++). It usually knows if your code is complete.\n",
    "* Use \"\\\\\" to tell python this line is not finished."
   ]
  },
  {
   "cell_type": "code",
   "execution_count": null,
   "metadata": {},
   "outputs": [],
   "source": [
    "myDict = {'a':1,\n",
    "          'b':2,\\\n",
    "          'c':3}\n",
    "a = 1\n",
    "b = 2\n",
    "c = a+b\\\n",
    "    -(a)\n",
    "d = (a+b\n",
    "     -(a))\n",
    "print(myDict, c, d)"
   ]
  },
  {
   "cell_type": "markdown",
   "metadata": {},
   "source": [
    "### Assignment of varibles ###\n",
    "* Use '=' to assign a object (on the right hand) to a varible (on the left hand)\n",
    "* You can assign multiple varibles at the same time\n",
    "* No need to specify data type (compared with C/C++)"
   ]
  },
  {
   "cell_type": "code",
   "execution_count": null,
   "metadata": {},
   "outputs": [],
   "source": [
    "c = 100\n",
    "a, b = 1, 2\n",
    "b = d = 3\n",
    "print(a,b,c,d)"
   ]
  },
  {
   "cell_type": "markdown",
   "metadata": {},
   "source": [
    "# Naive Data types"
   ]
  },
  {
   "cell_type": "markdown",
   "metadata": {},
   "source": [
    "### Data type ###\n",
    "* int (long): 1, -1, 100\n",
    "* float (float32): 0.1, 1., .3, -1.9\n",
    "* bool: True, False\n",
    "* string: 'a', 'abc', 'abc 123', \"abc 123\",\"It's me\", '''abc 123''', \"\"\"abc 123\"\"\" (Last two have special meaning: doc string)\n",
    "* None：means NOTHING, NULL (C/C++/R)\n",
    "* others: complex, byte, etc."
   ]
  },
  {
   "cell_type": "markdown",
   "metadata": {},
   "source": [
    "### Type convert ###\n",
    "Note sharp mark (#) is used to comment. Interpretor will skip everything after #"
   ]
  },
  {
   "cell_type": "code",
   "execution_count": null,
   "metadata": {},
   "outputs": [],
   "source": [
    "a = '123' # a is a string\n",
    "b = int(a) # b is an int \n",
    "c = float(a) # c is a float\n",
    "d = bool(a) # d is boolean\n",
    "e = str(c) # e is a string\n",
    "print(a,b,c,d, e)"
   ]
  },
  {
   "cell_type": "markdown",
   "metadata": {},
   "source": [
    "bool() will convert None and 0 into False"
   ]
  },
  {
   "cell_type": "code",
   "execution_count": null,
   "metadata": {},
   "outputs": [],
   "source": [
    "a, b, c = None, 0, 1\n",
    "d, e, f = bool(a), bool(b), bool(c)\n",
    "print(d, e, f)"
   ]
  },
  {
   "cell_type": "markdown",
   "metadata": {},
   "source": [
    "### Operators"
   ]
  },
  {
   "cell_type": "code",
   "execution_count": null,
   "metadata": {},
   "outputs": [],
   "source": [
    "print(1+1)\n",
    "print(1-1)\n",
    "print(1*2)\n",
    "print(1/2) # different in Python 2, take a try!\n",
    "\n",
    "print(2**3) # 2^3 in most other language.\n",
    "print(7%3) #Modulo operation: 7 =2*3+1 remainder\n",
    "print(7//3) #integer value of the quotient"
   ]
  },
  {
   "cell_type": "code",
   "execution_count": null,
   "metadata": {},
   "outputs": [],
   "source": [
    "a = 2\n",
    "b = 3\n",
    "b = b+a\n",
    "print(b)"
   ]
  },
  {
   "cell_type": "code",
   "execution_count": null,
   "metadata": {},
   "outputs": [],
   "source": [
    "a = 2\n",
    "b = 3\n",
    "b += a # also -=, /=, *=\n",
    "b +=1\n",
    "print (b)"
   ]
  },
  {
   "cell_type": "code",
   "execution_count": null,
   "metadata": {},
   "outputs": [],
   "source": [
    "# For logical operator:\n",
    "print(1>2)\n",
    "print(1<2)\n",
    "print(1==2)\n",
    "print(1!=2)\n",
    "print(1>=1)\n",
    "print(2<=2)\n",
    "print(True and False)\n",
    "print(True or False)\n",
    "print(not True)"
   ]
  },
  {
   "cell_type": "markdown",
   "metadata": {},
   "source": [
    "For more detail: https://data-flair.training/blogs/python-operator/"
   ]
  },
  {
   "cell_type": "markdown",
   "metadata": {},
   "source": [
    "### Data structure ###\n",
    "* Dictionary: mapping (R), hash table(essence). A mapping from key to value. __mutable__\n",
    "* List: dynamic array (C/R/Matlab), but more than that! __mutable__\n",
    "* Tuple: list-like object, but __immutable__.\n",
    "* Set: Similar to set in math, each element is unique."
   ]
  },
  {
   "cell_type": "markdown",
   "metadata": {},
   "source": [
    "## 1. Introducing Dictionaries (curly brackets)"
   ]
  },
  {
   "cell_type": "markdown",
   "metadata": {},
   "source": [
    "A dictionary is an unordered set of key-value pairs. When you add a key to a dictionary, you must also add\n",
    "a value for that key. (You can always change the value later.) Python dictionaries are optimized for retrieving\n",
    "the value when you know the key, but not the other way around.\n",
    "\n",
    "One of Python's built−in datatypes is the dictionary, which defines one−to−one relationships between keys and values. Key is __unique__.<br>\n",
    "Note: Key can be string, int, float, boolean, tuple. Value can be any object. (Everything in Python is object.)"
   ]
  },
  {
   "cell_type": "code",
   "execution_count": null,
   "metadata": {},
   "outputs": [],
   "source": [
    "  {key1: value1, \n",
    "   key2: value2, \n",
    "   key3: value3,\n",
    "       ...\n",
    "  }"
   ]
  },
  {
   "cell_type": "code",
   "execution_count": null,
   "metadata": {},
   "outputs": [],
   "source": [
    "# d = dict({\"server\":12, \"database\":\"master\"})\n",
    "d = {\"server\":12, \"database\":\"master\"}\n",
    "print(d)"
   ]
  },
  {
   "cell_type": "code",
   "execution_count": null,
   "metadata": {},
   "outputs": [],
   "source": [
    "len(d)"
   ]
  },
  {
   "cell_type": "code",
   "execution_count": null,
   "metadata": {},
   "outputs": [],
   "source": [
    "'master' in d  #You can get values by key, but you can’t get keys by value"
   ]
  },
  {
   "cell_type": "code",
   "execution_count": null,
   "metadata": {},
   "outputs": [],
   "source": [
    "# You can also create a dictionary with such syntax. The combination of (key, value) is called item.\n",
    "d = dict([(\"server\",12), (\"database\",\"master\")])\n",
    "print(d)"
   ]
  },
  {
   "cell_type": "code",
   "execution_count": null,
   "metadata": {},
   "outputs": [],
   "source": [
    "d['server']  #You can get values by key, but you can’t get keys by value"
   ]
  },
  {
   "cell_type": "code",
   "execution_count": null,
   "metadata": {},
   "outputs": [],
   "source": [
    "d[\"server\"] = 15\n",
    "d[\"client\"] = 20\n",
    "print(d)"
   ]
  },
  {
   "cell_type": "code",
   "execution_count": null,
   "metadata": {},
   "outputs": [],
   "source": [
    "d[\"peter\"] = {1: 'One'}\n",
    "print(d)"
   ]
  },
  {
   "cell_type": "code",
   "execution_count": null,
   "metadata": {},
   "outputs": [],
   "source": [
    "dir(d)"
   ]
  },
  {
   "cell_type": "code",
   "execution_count": null,
   "metadata": {},
   "outputs": [],
   "source": [
    "a = d.keys()\n",
    "print(a)\n",
    "b = d.values()\n",
    "print(b)"
   ]
  },
  {
   "cell_type": "markdown",
   "metadata": {},
   "source": [
    "## 2. Introducing Lists (square brackets)"
   ]
  },
  {
   "cell_type": "markdown",
   "metadata": {},
   "source": [
    "Lists are Python's workhorse datatype. If your only experience with lists is arrays in Visual Basic or (God forbid) the\n",
    "datastore in Powerbuilder, brace yourself for Python lists.\n",
    "\n",
    "List is a collection which is ordered and changeable. Allows duplicate members"
   ]
  },
  {
   "cell_type": "markdown",
   "metadata": {},
   "source": [
    "### 2.1. Defining Lists"
   ]
  },
  {
   "cell_type": "code",
   "execution_count": null,
   "metadata": {},
   "outputs": [],
   "source": [
    "li = [1, 2.0, \"a\", \"b\", \"mpilgrim\", \"z\", \"example\"]\n",
    "print(li)\n",
    "\n",
    "s = '123456'\n",
    "print(list(s))\n"
   ]
  },
  {
   "cell_type": "markdown",
   "metadata": {},
   "source": [
    "### 2.2 Indexing ###\n",
    "* Index starts from 0, not 1 \n",
    "* Using slice operator '\\[\\]' to slice a list.\n",
    "*  ':' operator in '\\[\\]' indicates 'between', eg: myList\\[0:3\\], is the sublist consisting of elements on 0,1,2. Note: __the index on the right hand side of ':' is not included__, similiar to __\\[idx1,idx2\\)__ in math\n",
    "* Leaving left side of ':' empty, indicating starting from 0; leaving right side empty indicating ending at the end.\n",
    "* Negative index means counting from the end. -1 means 'the last one', -2 means 'the second last one', etc."
   ]
  },
  {
   "cell_type": "code",
   "execution_count": null,
   "metadata": {},
   "outputs": [],
   "source": [
    "\n",
    "#idx:0123456789... \n",
    "s = 'Hello World!'\n",
    "s = list(s)\n",
    "\n",
    "print(s)          # Prints complete list"
   ]
  },
  {
   "cell_type": "code",
   "execution_count": null,
   "metadata": {},
   "outputs": [],
   "source": [
    "s[0]     # Prints first element"
   ]
  },
  {
   "cell_type": "markdown",
   "metadata": {},
   "source": [
    "#### Slicing: YourList[ startpoint : endpoint : step]\n",
    "Note that the endpoint will not be included."
   ]
  },
  {
   "cell_type": "code",
   "execution_count": null,
   "metadata": {},
   "outputs": [],
   "source": [
    "s[2:5]     # Prints elements starting from 3rd to 5th"
   ]
  },
  {
   "cell_type": "code",
   "execution_count": null,
   "metadata": {},
   "outputs": [],
   "source": [
    "s[2:]     # Prints list starting from 3rd element"
   ]
  },
  {
   "cell_type": "code",
   "execution_count": null,
   "metadata": {},
   "outputs": [],
   "source": [
    "s[-2]      # Prints the last element "
   ]
  },
  {
   "cell_type": "code",
   "execution_count": null,
   "metadata": {},
   "outputs": [],
   "source": [
    "s[-3:]"
   ]
  },
  {
   "cell_type": "code",
   "execution_count": null,
   "metadata": {},
   "outputs": [],
   "source": [
    "s[0:10:2]   # 0, 2, 4, 6, 8 step-wise slicing; extracting characters with even indexes from the first 10 characters"
   ]
  },
  {
   "cell_type": "code",
   "execution_count": null,
   "metadata": {},
   "outputs": [],
   "source": [
    "s[10:0:-2]   "
   ]
  },
  {
   "cell_type": "code",
   "execution_count": null,
   "metadata": {},
   "outputs": [],
   "source": [
    "s[::-1] # A frequently used pattern."
   ]
  },
  {
   "cell_type": "markdown",
   "metadata": {},
   "source": [
    "### 2.3. Adding Elements to Lists"
   ]
  },
  {
   "cell_type": "markdown",
   "metadata": {},
   "source": [
    "###### Adding Elements to a List\n",
    "For R user: following methods will modify this list object itself, not returning you a new object."
   ]
  },
  {
   "cell_type": "code",
   "execution_count": null,
   "metadata": {},
   "outputs": [],
   "source": [
    "li = ['a', 'b', 'c']\n",
    "li.append(10)\n",
    "li"
   ]
  },
  {
   "cell_type": "code",
   "execution_count": null,
   "metadata": {},
   "outputs": [],
   "source": [
    "li.insert(1, \"new3\")\n",
    "li"
   ]
  },
  {
   "cell_type": "code",
   "execution_count": null,
   "metadata": {},
   "outputs": [],
   "source": [
    "li.extend([\"two\", \"elements\"])\n",
    "li"
   ]
  },
  {
   "cell_type": "markdown",
   "metadata": {},
   "source": [
    "###### The Difference between extend and append\n",
    "The append() method adds a single item to the end of the list.  \n",
    "The extend() method takes one argument, a list, and appends each of the items of the\n",
    "argument to the original list."
   ]
  },
  {
   "cell_type": "code",
   "execution_count": null,
   "metadata": {},
   "outputs": [],
   "source": [
    "li = ['a', 'b', 'c']\n",
    "li.extend(['d', 'e', 'f'])\n",
    "li"
   ]
  },
  {
   "cell_type": "code",
   "execution_count": null,
   "metadata": {},
   "outputs": [],
   "source": [
    "li = ['a', 'b', 'c']\n",
    "li.append(['d', 'e', 'f'])\n",
    "li\n",
    "#dir(li)"
   ]
  },
  {
   "cell_type": "code",
   "execution_count": null,
   "metadata": {},
   "outputs": [],
   "source": [
    "dir(li)"
   ]
  },
  {
   "cell_type": "markdown",
   "metadata": {},
   "source": [
    "###### Searching Lists"
   ]
  },
  {
   "cell_type": "code",
   "execution_count": null,
   "metadata": {},
   "outputs": [],
   "source": [
    "li = ['example', 'new']\n",
    "\"example\" in li"
   ]
  },
  {
   "cell_type": "markdown",
   "metadata": {},
   "source": [
    "### 2.4. Deleting List Elements"
   ]
  },
  {
   "cell_type": "markdown",
   "metadata": {},
   "source": [
    "###### Removing Elements from a List"
   ]
  },
  {
   "cell_type": "code",
   "execution_count": null,
   "metadata": {},
   "outputs": [],
   "source": [
    "li = ['z', 'new']#,'z']\n",
    "li.remove(\"z\")\n",
    "li"
   ]
  },
  {
   "cell_type": "code",
   "execution_count": null,
   "metadata": {},
   "outputs": [],
   "source": [
    "li = [1, 2, 3]\n",
    "print(li.pop())"
   ]
  },
  {
   "cell_type": "code",
   "execution_count": null,
   "metadata": {},
   "outputs": [],
   "source": [
    "li"
   ]
  },
  {
   "cell_type": "markdown",
   "metadata": {},
   "source": [
    "### 2.5. Using List Operators"
   ]
  },
  {
   "cell_type": "code",
   "execution_count": null,
   "metadata": {},
   "outputs": [],
   "source": [
    "li = ['a', 'b', 'mpilgrim']"
   ]
  },
  {
   "cell_type": "code",
   "execution_count": null,
   "metadata": {},
   "outputs": [],
   "source": [
    "li = li + ['example', 'new']\n",
    "li"
   ]
  },
  {
   "cell_type": "code",
   "execution_count": null,
   "metadata": {},
   "outputs": [],
   "source": [
    "li = li + ['two']\n",
    "li"
   ]
  },
  {
   "cell_type": "code",
   "execution_count": null,
   "metadata": {},
   "outputs": [],
   "source": [
    "li = [1, 2] * 3\n",
    "li"
   ]
  },
  {
   "cell_type": "code",
   "execution_count": null,
   "metadata": {},
   "outputs": [],
   "source": [
    "li = [1, 'A'] * 3\n",
    "li"
   ]
  },
  {
   "cell_type": "markdown",
   "metadata": {},
   "source": [
    "### 2.6. list is mutable object"
   ]
  },
  {
   "cell_type": "code",
   "execution_count": null,
   "metadata": {},
   "outputs": [],
   "source": [
    "a = [1,2,3] #assign a list is assign the pointer (address) to a new variable\n",
    "b = a\n",
    "a[0] = 100\n",
    "print(a)\n",
    "print(b)"
   ]
  },
  {
   "cell_type": "code",
   "execution_count": null,
   "metadata": {},
   "outputs": [],
   "source": [
    "print(id(a))\n",
    "print(id(b))"
   ]
  },
  {
   "cell_type": "code",
   "execution_count": null,
   "metadata": {},
   "outputs": [],
   "source": [
    "a = [1,2,3]\n",
    "# b = a\n",
    "b = a.copy()\n",
    "print(id(a))\n",
    "print(id(b))"
   ]
  },
  {
   "cell_type": "code",
   "execution_count": null,
   "metadata": {},
   "outputs": [],
   "source": [
    "a[0] = 100\n",
    "print(a,b)"
   ]
  },
  {
   "cell_type": "code",
   "execution_count": null,
   "metadata": {},
   "outputs": [],
   "source": [
    "a = {0:'a', 1:'b'}\n",
    "b = a\n",
    "# b = a.copy()\n",
    "print(id(a))\n",
    "print(id(b))"
   ]
  },
  {
   "cell_type": "code",
   "execution_count": null,
   "metadata": {},
   "outputs": [],
   "source": [
    "a[0] = 100\n",
    "print(a,b)"
   ]
  },
  {
   "cell_type": "markdown",
   "metadata": {},
   "source": [
    "## 3. Introducing Tuples"
   ]
  },
  {
   "cell_type": "markdown",
   "metadata": {},
   "source": [
    "A tuple is an immutable list. A tuple can not be changed in any way once it is created.  \n",
    "1. A tuple is defined in the same way as a list, except that the whole set of elements is enclosed in parentheses\n",
    "instead of square brackets.\n",
    "2. The elements of a tuple have a defined order, just like a list. Tuple indices are zero-based, just like a list, so\n",
    "the first element of a non-empty tuple is always a_tuple[0].\n",
    "3. Negative indices count from the end of the tuple, just like a list.\n",
    "4. Slicing works too, just like a list. When you slice a list, you get a new list; when you slice a tuple, you get a\n",
    "new tuple."
   ]
  },
  {
   "cell_type": "markdown",
   "metadata": {},
   "source": [
    "###### Defining a tuple"
   ]
  },
  {
   "cell_type": "code",
   "execution_count": null,
   "metadata": {},
   "outputs": [],
   "source": [
    "t = (\"a\", \"b\", \"mpilgrim\", \"z\", \"example\")\n",
    "t"
   ]
  },
  {
   "cell_type": "code",
   "execution_count": null,
   "metadata": {},
   "outputs": [],
   "source": [
    "t[0]=1"
   ]
  },
  {
   "cell_type": "code",
   "execution_count": null,
   "metadata": {},
   "outputs": [],
   "source": [
    "t[-1]"
   ]
  },
  {
   "cell_type": "code",
   "execution_count": null,
   "metadata": {},
   "outputs": [],
   "source": [
    "t[1:3]"
   ]
  },
  {
   "cell_type": "markdown",
   "metadata": {},
   "source": [
    "###### Tuples Have No Methods"
   ]
  },
  {
   "cell_type": "code",
   "execution_count": null,
   "metadata": {},
   "outputs": [],
   "source": [
    "t"
   ]
  },
  {
   "cell_type": "code",
   "execution_count": null,
   "metadata": {},
   "outputs": [],
   "source": [
    "t.append(\"new\")"
   ]
  },
  {
   "cell_type": "code",
   "execution_count": null,
   "metadata": {},
   "outputs": [],
   "source": [
    "t.remove(\"z\")"
   ]
  },
  {
   "cell_type": "code",
   "execution_count": null,
   "metadata": {},
   "outputs": [],
   "source": [
    "t.index(\"example\")"
   ]
  },
  {
   "cell_type": "code",
   "execution_count": null,
   "metadata": {},
   "outputs": [],
   "source": [
    "\"z\" in t"
   ]
  },
  {
   "cell_type": "code",
   "execution_count": null,
   "metadata": {},
   "outputs": [],
   "source": [
    "a,b = 1,2 # equivalent to (a,b) = (1,2)"
   ]
  },
  {
   "cell_type": "code",
   "execution_count": null,
   "metadata": {},
   "outputs": [],
   "source": [
    "t"
   ]
  },
  {
   "cell_type": "markdown",
   "metadata": {},
   "source": [
    "So what are tuples good for?\n",
    "* Tuples are faster than lists. If you're defining a constant set of values and all you're ever going to do with it is iterate through it, use a tuple instead of a list.\n",
    "* It makes your code safer if you \"write−protect\" data that does not need to be changed. Using a tuple instead of a list is like having an implied assert statement that shows this data is constant, and that special thought (and a specific function) is required to override that.\n",
    "* Remember that I said that dictionary keys can be integers, strings, and \"a few other types\"? Tuples are one of those types. Tuples can be used as keys in a dictionary, but lists can't be used this way.Actually, it's more complicated than that. Dictionary keys must be immutable. Tuples themselves are immutable, but if you have a tuple of lists, that counts as mutable and isn't safe to use as a dictionary key. Only tuples of strings, numbers, or other dictionary−safe tuples can be used as dictionary keys.\n",
    "* Tuples are used in string formatting, as you'll see shortly.\n"
   ]
  },
  {
   "cell_type": "markdown",
   "metadata": {},
   "source": [
    "#### ASSIGNING MULTIPLE VALUES AT ONCE"
   ]
  },
  {
   "cell_type": "code",
   "execution_count": null,
   "metadata": {},
   "outputs": [],
   "source": [
    "v = ('a', 2, True)\n",
    "(x, y, z) = v\n",
    "print (x, y, z)"
   ]
  },
  {
   "cell_type": "code",
   "execution_count": null,
   "metadata": {},
   "outputs": [],
   "source": [
    "(MONDAY, TUESDAY, WEDNESDAY, THURSDAY, FRIDAY, SATURDAY, SUNDAY) = range(7)\n",
    "print (MONDAY)"
   ]
  },
  {
   "cell_type": "markdown",
   "metadata": {},
   "source": [
    "## 4. for statement, while statement, if else statement"
   ]
  },
  {
   "cell_type": "code",
   "execution_count": null,
   "metadata": {},
   "outputs": [],
   "source": [
    "# pseudo code\n",
    "if condition1:\n",
    "    body1\n",
    "elif condition2:\n",
    "    body2\n",
    "else:\n",
    "    body3\n",
    "out_of_statement"
   ]
  },
  {
   "cell_type": "code",
   "execution_count": null,
   "metadata": {},
   "outputs": [],
   "source": [
    "x=100\n",
    "\n",
    "# simple if statement\n",
    "# each control line must end with colon (:) \n",
    "if x>=50:   \n",
    "    # each line in the block should be \n",
    "    # indented with the same amount                                  \n",
    "    print (\"the value of x >= 50\")   \n",
    "    print(\"done!\")\n",
    "\n",
    "# if...else statement\n",
    "if x>=200:\n",
    "    print (\"the value of x >= 200\")\n",
    "else:\n",
    "    print (\"the value of x < 200\")\n",
    "\n",
    "# if...elif...else statement\n",
    "if x>=200:\n",
    "    print (\"the value of x >= 200\")\n",
    "elif x>=50:\n",
    "    print (\"the value of x >= 50 and <200\")\n",
    "else:\n",
    "    print (\"the value of x < 50\")\n",
    "    \n",
    "# nested statements\n",
    "x=300\n",
    "y=500\n",
    "if x>=200:\n",
    "    \n",
    "    # inner \"if\" and \"else\" need to indent the same amount\n",
    "    if x>=y:                                                 \n",
    "        print (\"the value of x >= 200 and x>=y\")\n",
    "    else:\n",
    "        print (\"the value of x >= 200 and x<y\")\n",
    "else:\n",
    "    print (\"the value of x < 200\")"
   ]
  },
  {
   "cell_type": "code",
   "execution_count": null,
   "metadata": {},
   "outputs": [],
   "source": [
    "#practice\n",
    "word_count_dict={\"hello\":2,\"FE\":3, \"iphone\":2}\n",
    "new_word=\"contain\"\n"
   ]
  },
  {
   "cell_type": "code",
   "execution_count": null,
   "metadata": {},
   "outputs": [],
   "source": [
    "# pseudo code\n",
    "for varible in iterator/generator:\n",
    "    body\n",
    "\n",
    "out_of_statement"
   ]
  },
  {
   "cell_type": "code",
   "execution_count": null,
   "metadata": {},
   "outputs": [],
   "source": [
    "s = 0\n",
    "for i in range(10):\n",
    "    s += i\n",
    "    print(i)\n",
    "print(s)"
   ]
  },
  {
   "cell_type": "code",
   "execution_count": null,
   "metadata": {},
   "outputs": [],
   "source": [
    "d = {'a': 100, 'b': 200, 'c': 300}\n",
    "for i in d:\n",
    "    print(d[i])"
   ]
  },
  {
   "cell_type": "code",
   "execution_count": null,
   "metadata": {},
   "outputs": [],
   "source": [
    "range(10)"
   ]
  },
  {
   "cell_type": "code",
   "execution_count": null,
   "metadata": {},
   "outputs": [],
   "source": [
    "# pseudo code\n",
    "while condition:\n",
    "    body\n",
    "\n",
    "out_of_statement"
   ]
  },
  {
   "cell_type": "code",
   "execution_count": null,
   "metadata": {},
   "outputs": [],
   "source": [
    "i = 0\n",
    "while i<10:\n",
    "    print(i)\n",
    "    i += 1"
   ]
  },
  {
   "cell_type": "code",
   "execution_count": null,
   "metadata": {},
   "outputs": [],
   "source": [
    "# initiate an empty list\n",
    "list1=[]  \n",
    "\n",
    "# loop through any iterable object, e.g. \n",
    "# list, tuple, set, dictionary\n",
    "for x in range(1,6):    \n",
    "    # append x**2 to the list\n",
    "    list1.append(x**2)  \n",
    "print (list1)\n",
    "    \n",
    "# A compact ways to use for loop in assigment\n",
    "list1=[x**2 for x in range(1,6)]\n",
    "print (\"Square of each element in [1:6]:\", list1)"
   ]
  },
  {
   "cell_type": "code",
   "execution_count": null,
   "metadata": {},
   "outputs": [],
   "source": [
    "# Get index of each element during loop\n",
    "\n",
    "list1=[3,5,2,4,1]\n",
    "\n",
    "# enumerate(list1) converts a sequence to an iterator \n",
    "# which returns a tuple at a time\n",
    "# starting from (0, list1[0]), (1, list1[1]), ... to the end\n",
    "# where 0,1, .. is the index if each element in list1\n",
    "\n",
    "list2=[(idx,x) for idx,x in enumerate(list1) ]  \n",
    "print(list2)\n",
    "\n",
    "# Questions: \n",
    "# 1. how to show indexes starting from 1, not 0?\n",
    "# 2. how to get squared value of elements along with index \n",
    "\n",
    "# Another way: only one variable item is used \n",
    "list2=[(item[0],item[1]) for item in enumerate(list1)]  \n",
    "print(\"index and value of each element \\\n",
    "in the list as a new list of tuple :\\n\", list2)"
   ]
  },
  {
   "cell_type": "code",
   "execution_count": null,
   "metadata": {},
   "outputs": [],
   "source": [
    "# Cobmine for loop with if statement\n",
    "\n",
    "list3=[(idx,x) for idx,x in enumerate([-2,5,-9,3,-4,12,1,8]) \n",
    "       if x>0]\n",
    "\n",
    "print(\"\\nget each **positive** element and its index \\\n",
    "in the list as a list of tuple\")\n",
    "print (list3)\n",
    "\n",
    "# Questions:\n",
    "# 1. how to get elements if their indexs > 2 ; \n",
    "# 2. how to get elements with even indexes?"
   ]
  },
  {
   "cell_type": "code",
   "execution_count": null,
   "metadata": {},
   "outputs": [],
   "source": [
    "# Use loop to create a dictionary\n",
    "\n",
    "list1=[1,3,2,3,4,3,4]\n",
    "\n",
    "# get the count of each number as a dictionary\n",
    "# hint: you can reuse your solution to Exercise 6.1.2 \n",
    "counts={}\n",
    "\n",
    "\n",
    "# any compact way to achieve this?"
   ]
  },
  {
   "cell_type": "code",
   "execution_count": null,
   "metadata": {},
   "outputs": [],
   "source": [
    "# nested loops\n",
    "\n",
    "print(\"\\nnested loops\")\n",
    "for x in range(1,3):    \n",
    "    for y in [1.2, 3.5]:\n",
    "        print (x*y)\n",
    "\n",
    "# a compact way to nest loops\n",
    "xy=[x*y for x in range(1,3) for y in [1.2, 3.5]]    \n",
    "\n",
    "print (xy)"
   ]
  },
  {
   "cell_type": "markdown",
   "metadata": {},
   "source": [
    "#### Keywords: break & continue \n",
    "* __break__ will break the current loop\n",
    "* __continue__ will skip the rest of loop body."
   ]
  },
  {
   "cell_type": "code",
   "execution_count": null,
   "metadata": {},
   "outputs": [],
   "source": [
    "i = 0\n",
    "while True:\n",
    "    print(i)\n",
    "    i += 1\n",
    "    if i > 10:\n",
    "        break\n",
    "        \n",
    "print('loop finished. i is %s'% i)"
   ]
  },
  {
   "cell_type": "code",
   "execution_count": null,
   "metadata": {},
   "outputs": [],
   "source": [
    "i = 0\n",
    "while i <10:\n",
    "    i += 1\n",
    "    if i > 5:\n",
    "        continue \n",
    "    print(i)\n",
    "    \n",
    "print('loop finished. i is %s'% i)"
   ]
  },
  {
   "cell_type": "markdown",
   "metadata": {},
   "source": [
    "## 5. Define functions\n",
    "* Using keyword 'def' to define a function , the format looks like this:"
   ]
  },
  {
   "cell_type": "code",
   "execution_count": null,
   "metadata": {},
   "outputs": [],
   "source": [
    "print('Hello David')\n",
    "print('Hello Iris')\n",
    "\n",
    "def hello(name):\n",
    "    print('Hello %s'% name)\n",
    "    \n",
    "hello('David')"
   ]
  },
  {
   "cell_type": "code",
   "execution_count": null,
   "metadata": {},
   "outputs": [],
   "source": [
    "def myFunctionName(arg1, arg2, arg3 = 10):\n",
    "    print(arg1)\n",
    "    return arg2*arg3    \n",
    "\n",
    "print(myFunctionName(1,2))\n",
    "print(myFunctionName(1,2,3))"
   ]
  },
  {
   "cell_type": "code",
   "execution_count": null,
   "metadata": {},
   "outputs": [],
   "source": [
    "def SumOfList(ls):\n",
    "    s = 0\n",
    "    for ele in ls:\n",
    "        s += ele\n",
    "    return s"
   ]
  },
  {
   "cell_type": "code",
   "execution_count": null,
   "metadata": {},
   "outputs": [],
   "source": [
    "def reverseList(ls):\n",
    "    return ls[::-1], len(ls)\n",
    "test_list = range(5)\n",
    "print(test_list)\n",
    "\n",
    "new_list, n = reverseList(test_list)\n",
    "print(new_list,n)"
   ]
  },
  {
   "cell_type": "code",
   "execution_count": null,
   "metadata": {},
   "outputs": [],
   "source": [
    "# Exercise : Define a function to\n",
    "# remove all occurrences of a value from a list \n",
    "# Requirements:\n",
    "# 1. two input parameters, a list and a value\n",
    "# 2. return a list that does not contain the value\n",
    "#    e.g. if inputs are [1,3,2,2] and 2, the return\n",
    "#    should be [1,3]\n",
    "\n",
    "def remove_all(aList, v):\n",
    "    \n",
    "    # add your code\n",
    "    \n",
    "    "
   ]
  },
  {
   "cell_type": "code",
   "execution_count": null,
   "metadata": {},
   "outputs": [],
   "source": [
    "def remove_all(aList, v):\n",
    "    for x in aList:       \n",
    "        if x==v:\n",
    "            aList.remove(v)\n",
    "        print(aList, x)\n",
    "    return aList\n",
    "\n",
    "# try this:\n",
    "L=[1,3,2,2]\n",
    "print(\"remove 3: \", remove_all(L,3))\n",
    "\n",
    "L=[1,3,2,2]\n",
    "print(\"remove 2: \", remove_all(L,2)) #why?"
   ]
  },
  {
   "cell_type": "code",
   "execution_count": null,
   "metadata": {},
   "outputs": [],
   "source": []
  }
 ],
 "metadata": {
  "kernelspec": {
   "display_name": "Python 3",
   "language": "python",
   "name": "python3"
  },
  "language_info": {
   "codemirror_mode": {
    "name": "ipython",
    "version": 3
   },
   "file_extension": ".py",
   "mimetype": "text/x-python",
   "name": "python",
   "nbconvert_exporter": "python",
   "pygments_lexer": "ipython3",
   "version": "3.7.4"
  }
 },
 "nbformat": 4,
 "nbformat_minor": 1
}
